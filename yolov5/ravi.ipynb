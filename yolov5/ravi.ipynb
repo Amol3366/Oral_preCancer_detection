{
 "cells": [
  {
   "cell_type": "code",
   "execution_count": 19,
   "id": "9583909e",
   "metadata": {},
   "outputs": [
    {
     "name": "stdout",
     "output_type": "stream",
     "text": [
      "/bin/bash: /home/aimlgpu2/miniconda3/envs/tf/lib/libtinfo.so.6: no version information available (required by /bin/bash)\r\n",
      "/home/aimlgpu2/Amol/yolov5_ws/yolov5/runs/train/exp25/weights\r\n"
     ]
    }
   ],
   "source": [
    "!pwd"
   ]
  },
  {
   "cell_type": "code",
   "execution_count": 18,
   "id": "f03d96e2",
   "metadata": {},
   "outputs": [
    {
     "name": "stdout",
     "output_type": "stream",
     "text": [
      "/bin/bash: /home/aimlgpu2/miniconda3/envs/tf/lib/libtinfo.so.6: no version information available (required by /bin/bash)\r\n",
      "best.pt  last.pt\r\n"
     ]
    }
   ],
   "source": [
    "ls"
   ]
  },
  {
   "cell_type": "code",
   "execution_count": 17,
   "id": "88efa262",
   "metadata": {},
   "outputs": [
    {
     "name": "stdout",
     "output_type": "stream",
     "text": [
      "/home/aimlgpu2/Amol/yolov5_ws/yolov5/runs/train/exp25/weights\n"
     ]
    }
   ],
   "source": [
    "cd weights/\n"
   ]
  },
  {
   "cell_type": "code",
   "execution_count": 20,
   "id": "e7bfcb01",
   "metadata": {},
   "outputs": [
    {
     "name": "stderr",
     "output_type": "stream",
     "text": [
      "Downloading: \"https://github.com/ultralytics/yolov5/archive/master.zip\" to /home/aimlgpu2/.cache/torch/hub/master.zip\n",
      "\u001b[31m\u001b[1mrequirements:\u001b[0m YOLOv5 requirements \"setuptools>=65.5.1\" \"wheel>=0.38.0\" not found, attempting AutoUpdate...\n",
      "ERROR: pip's dependency resolver does not currently take into account all the packages that are installed. This behaviour is the source of the following dependency conflicts.\n",
      "tensorflow 2.11.0 requires protobuf<3.20,>=3.9.2, but you have protobuf 3.20.3 which is incompatible.\n",
      "tensorflow-gpu 2.11.0 requires protobuf<3.20,>=3.9.2, but you have protobuf 3.20.3 which is incompatible.\n",
      "Collecting setuptools>=65.5.1\n",
      "  Downloading setuptools-67.4.0-py3-none-any.whl (1.1 MB)\n",
      "     ━━━━━━━━━━━━━━━━━━━━━━━━━━━━━━━━━━━━━━━━ 1.1/1.1 MB 5.0 MB/s eta 0:00:00\n",
      "Collecting wheel>=0.38.0\n",
      "  Using cached wheel-0.38.4-py3-none-any.whl (36 kB)\n",
      "Installing collected packages: wheel, setuptools\n",
      "  Attempting uninstall: wheel\n",
      "    Found existing installation: wheel 0.37.1\n",
      "    Uninstalling wheel-0.37.1:\n",
      "      Successfully uninstalled wheel-0.37.1\n",
      "  Attempting uninstall: setuptools\n",
      "    Found existing installation: setuptools 65.5.0\n",
      "    Uninstalling setuptools-65.5.0:\n",
      "      Successfully uninstalled setuptools-65.5.0\n",
      "Successfully installed setuptools-67.4.0 wheel-0.38.4\n",
      "\n",
      "\u001b[31m\u001b[1mrequirements:\u001b[0m 2 packages updated per /home/aimlgpu2/.cache/torch/hub/ultralytics_yolov5_master/requirements.txt\n",
      "\u001b[31m\u001b[1mrequirements:\u001b[0m ⚠️ \u001b[1mRestart runtime or rerun command for updates to take effect\u001b[0m\n",
      "\n",
      "YOLOv5 🚀 2023-2-23 Python-3.9.15 torch-1.11.0+cu113 CUDA:0 (Tesla V100-PCIE-32GB, 32501MiB)\n",
      "\n",
      "Downloading https://github.com/ultralytics/yolov5/releases/download/v7.0/yolov5s.pt to yolov5s.pt...\n"
     ]
    },
    {
     "data": {
      "application/vnd.jupyter.widget-view+json": {
       "model_id": "dbf442c138cb49b4a941354409934c5c",
       "version_major": 2,
       "version_minor": 0
      },
      "text/plain": [
       "  0%|          | 0.00/14.1M [00:00<?, ?B/s]"
      ]
     },
     "metadata": {},
     "output_type": "display_data"
    },
    {
     "name": "stderr",
     "output_type": "stream",
     "text": [
      "\n",
      "Fusing layers... \n",
      "YOLOv5s summary: 213 layers, 7225885 parameters, 0 gradients\n",
      "Adding AutoShape... \n",
      "image 1/1: 720x1280 2 persons, 2 ties\n",
      "Speed: 823.7ms pre-process, 13.7ms inference, 1.8ms NMS per image at shape (1, 3, 384, 640)\n"
     ]
    }
   ],
   "source": [
    "# YOLOv5 PyTorch HUB Inference (DetectionModels only)\n",
    "import torch\n",
    "\n",
    "model = torch.hub.load('ultralytics/yolov5', 'yolov5s', force_reload=True)  # yolov5n - yolov5x6 or custom\n",
    "im = 'https://ultralytics.com/images/zidane.jpg'  # file, Path, PIL.Image, OpenCV, nparray, list\n",
    "results = model(im)  # inference\n",
    "results.print() "
   ]
  },
  {
   "cell_type": "code",
   "execution_count": 2,
   "id": "fc6aacd2",
   "metadata": {},
   "outputs": [
    {
     "name": "stderr",
     "output_type": "stream",
     "text": [
      "YOLOv5 🚀 v7.0-72-g064365d Python-3.9.15 torch-1.11.0+cu113 CUDA:0 (Tesla V100-PCIE-32GB, 32501MiB)\n",
      "\n",
      "Fusing layers... \n",
      "Model summary: 157 layers, 7029004 parameters, 0 gradients, 15.8 GFLOPs\n",
      "Adding AutoShape... \n",
      "Saved 1 image to \u001b[1mruns/detect/exp19\u001b[0m\n",
      "Saved results to runs/detect/exp19\n",
      "\n"
     ]
    },
    {
     "name": "stdout",
     "output_type": "stream",
     "text": [
      "          xmin        ymin         xmax        ymax  confidence  class  \\\n",
      "0  1843.570557   92.473793  1930.873169  172.293793    0.761368      4   \n",
      "1   106.565506  144.679413   493.015991  346.290192    0.452436      4   \n",
      "2  2117.011230  145.626526  2187.829590  273.957367    0.410750      3   \n",
      "3    17.755568    2.339786    82.317909   74.117935    0.394237      4   \n",
      "4  1237.798950   65.452095  1310.641357  180.680481    0.374147      3   \n",
      "5  1045.441162  107.752106  1117.970825  208.605194    0.284436      3   \n",
      "\n",
      "            name  \n",
      "0  Dental_Caries  \n",
      "1  Dental_Caries  \n",
      "2     Gingivitis  \n",
      "3  Dental_Caries  \n",
      "4     Gingivitis  \n",
      "5     Gingivitis  \n"
     ]
    }
   ],
   "source": [
    "import torch\n",
    "model = torch.hub.load('/home/aimlgpu2/Amol/yolov5_ws/yolov5', 'custom', path='/home/aimlgpu2/Amol/yolov5_ws/yolov5/runs/train/exp25/weights/best.pt', source='local')\n",
    "im ='/home/aimlgpu2/Amol/yolov5_ws/yolov5/test/pone15.jpg'\n",
    "results = model(im) # inference\n",
    "#results.print() \n",
    "results = model(im)  # inference\n",
    "#results = model(im)  # inference\n",
    "a=results.pandas().xyxy[0]\n",
    "crops = results.crop() \n",
    "b=results.pandas().xyxy[0].to_json(orient=\"records\") \n",
    "print(a)"
   ]
  },
  {
   "cell_type": "code",
   "execution_count": 41,
   "id": "20dfe240",
   "metadata": {},
   "outputs": [
    {
     "data": {
      "text/plain": [
       "'[{\"xmin\":1843.5705566406,\"ymin\":92.4737930298,\"xmax\":1930.8731689453,\"ymax\":172.2937927246,\"confidence\":0.7613679171,\"class\":4,\"name\":\"Dental_Caries\"},{\"xmin\":106.5655059814,\"ymin\":144.6794128418,\"xmax\":493.0159912109,\"ymax\":346.2901916504,\"confidence\":0.4524357021,\"class\":4,\"name\":\"Dental_Caries\"},{\"xmin\":2117.0112304688,\"ymin\":145.6265258789,\"xmax\":2187.8295898438,\"ymax\":273.9573669434,\"confidence\":0.4107497334,\"class\":3,\"name\":\"Gingivitis\"},{\"xmin\":17.7555675507,\"ymin\":2.3397860527,\"xmax\":82.3179092407,\"ymax\":74.1179351807,\"confidence\":0.3942374885,\"class\":4,\"name\":\"Dental_Caries\"},{\"xmin\":1237.7989501953,\"ymin\":65.4520950317,\"xmax\":1310.6413574219,\"ymax\":180.680480957,\"confidence\":0.3741473556,\"class\":3,\"name\":\"Gingivitis\"},{\"xmin\":1045.4411621094,\"ymin\":107.7521057129,\"xmax\":1117.9708251953,\"ymax\":208.6051940918,\"confidence\":0.2844361067,\"class\":3,\"name\":\"Gingivitis\"}]'"
      ]
     },
     "execution_count": 41,
     "metadata": {},
     "output_type": "execute_result"
    }
   ],
   "source": [
    "b"
   ]
  },
  {
   "cell_type": "code",
   "execution_count": 3,
   "id": "68f054ad",
   "metadata": {},
   "outputs": [
    {
     "data": {
      "text/html": [
       "<div>\n",
       "<style scoped>\n",
       "    .dataframe tbody tr th:only-of-type {\n",
       "        vertical-align: middle;\n",
       "    }\n",
       "\n",
       "    .dataframe tbody tr th {\n",
       "        vertical-align: top;\n",
       "    }\n",
       "\n",
       "    .dataframe thead th {\n",
       "        text-align: right;\n",
       "    }\n",
       "</style>\n",
       "<table border=\"1\" class=\"dataframe\">\n",
       "  <thead>\n",
       "    <tr style=\"text-align: right;\">\n",
       "      <th></th>\n",
       "      <th>xmin</th>\n",
       "      <th>ymin</th>\n",
       "      <th>xmax</th>\n",
       "      <th>ymax</th>\n",
       "      <th>confidence</th>\n",
       "      <th>class</th>\n",
       "      <th>name</th>\n",
       "    </tr>\n",
       "  </thead>\n",
       "  <tbody>\n",
       "    <tr>\n",
       "      <th>0</th>\n",
       "      <td>1843.570557</td>\n",
       "      <td>92.473793</td>\n",
       "      <td>1930.873169</td>\n",
       "      <td>172.293793</td>\n",
       "      <td>0.761368</td>\n",
       "      <td>4</td>\n",
       "      <td>Dental_Caries</td>\n",
       "    </tr>\n",
       "    <tr>\n",
       "      <th>1</th>\n",
       "      <td>106.565506</td>\n",
       "      <td>144.679413</td>\n",
       "      <td>493.015991</td>\n",
       "      <td>346.290192</td>\n",
       "      <td>0.452436</td>\n",
       "      <td>4</td>\n",
       "      <td>Dental_Caries</td>\n",
       "    </tr>\n",
       "    <tr>\n",
       "      <th>2</th>\n",
       "      <td>2117.011230</td>\n",
       "      <td>145.626526</td>\n",
       "      <td>2187.829590</td>\n",
       "      <td>273.957367</td>\n",
       "      <td>0.410750</td>\n",
       "      <td>3</td>\n",
       "      <td>Gingivitis</td>\n",
       "    </tr>\n",
       "    <tr>\n",
       "      <th>3</th>\n",
       "      <td>17.755568</td>\n",
       "      <td>2.339786</td>\n",
       "      <td>82.317909</td>\n",
       "      <td>74.117935</td>\n",
       "      <td>0.394237</td>\n",
       "      <td>4</td>\n",
       "      <td>Dental_Caries</td>\n",
       "    </tr>\n",
       "    <tr>\n",
       "      <th>4</th>\n",
       "      <td>1237.798950</td>\n",
       "      <td>65.452095</td>\n",
       "      <td>1310.641357</td>\n",
       "      <td>180.680481</td>\n",
       "      <td>0.374147</td>\n",
       "      <td>3</td>\n",
       "      <td>Gingivitis</td>\n",
       "    </tr>\n",
       "    <tr>\n",
       "      <th>5</th>\n",
       "      <td>1045.441162</td>\n",
       "      <td>107.752106</td>\n",
       "      <td>1117.970825</td>\n",
       "      <td>208.605194</td>\n",
       "      <td>0.284436</td>\n",
       "      <td>3</td>\n",
       "      <td>Gingivitis</td>\n",
       "    </tr>\n",
       "  </tbody>\n",
       "</table>\n",
       "</div>"
      ],
      "text/plain": [
       "          xmin        ymin         xmax        ymax  confidence  class  \\\n",
       "0  1843.570557   92.473793  1930.873169  172.293793    0.761368      4   \n",
       "1   106.565506  144.679413   493.015991  346.290192    0.452436      4   \n",
       "2  2117.011230  145.626526  2187.829590  273.957367    0.410750      3   \n",
       "3    17.755568    2.339786    82.317909   74.117935    0.394237      4   \n",
       "4  1237.798950   65.452095  1310.641357  180.680481    0.374147      3   \n",
       "5  1045.441162  107.752106  1117.970825  208.605194    0.284436      3   \n",
       "\n",
       "            name  \n",
       "0  Dental_Caries  \n",
       "1  Dental_Caries  \n",
       "2     Gingivitis  \n",
       "3  Dental_Caries  \n",
       "4     Gingivitis  \n",
       "5     Gingivitis  "
      ]
     },
     "execution_count": 3,
     "metadata": {},
     "output_type": "execute_result"
    }
   ],
   "source": [
    "a"
   ]
  },
  {
   "cell_type": "code",
   "execution_count": 62,
   "id": "7aa16798",
   "metadata": {},
   "outputs": [
    {
     "data": {
      "text/plain": [
       "xmin          float64\n",
       "ymin          float64\n",
       "xmax          float64\n",
       "ymax          float64\n",
       "confidence    float64\n",
       "class           int64\n",
       "name           object\n",
       "dtype: object"
      ]
     },
     "execution_count": 62,
     "metadata": {},
     "output_type": "execute_result"
    }
   ],
   "source": [
    "a.dtypes"
   ]
  },
  {
   "cell_type": "code",
   "execution_count": 45,
   "id": "2ee3f831",
   "metadata": {},
   "outputs": [
    {
     "data": {
      "text/plain": [
       "1843.570556640625"
      ]
     },
     "execution_count": 45,
     "metadata": {},
     "output_type": "execute_result"
    }
   ],
   "source": [
    "a['xmin'][0]"
   ]
  },
  {
   "cell_type": "code",
   "execution_count": 58,
   "id": "1e481635",
   "metadata": {},
   "outputs": [
    {
     "data": {
      "text/plain": [
       "92.47379302978516"
      ]
     },
     "execution_count": 58,
     "metadata": {},
     "output_type": "execute_result"
    }
   ],
   "source": [
    "a['ymin'][0]"
   ]
  },
  {
   "cell_type": "code",
   "execution_count": 59,
   "id": "79866d79",
   "metadata": {},
   "outputs": [
    {
     "data": {
      "text/plain": [
       "1930.8731689453125"
      ]
     },
     "execution_count": 59,
     "metadata": {},
     "output_type": "execute_result"
    }
   ],
   "source": [
    "a['xmax'][0]"
   ]
  },
  {
   "cell_type": "code",
   "execution_count": 60,
   "id": "1de73fea",
   "metadata": {},
   "outputs": [
    {
     "data": {
      "text/plain": [
       "172.29379272460938"
      ]
     },
     "execution_count": 60,
     "metadata": {},
     "output_type": "execute_result"
    }
   ],
   "source": [
    "a['ymax'][0]"
   ]
  },
  {
   "cell_type": "code",
   "execution_count": 57,
   "id": "00396c51",
   "metadata": {},
   "outputs": [],
   "source": [
    "import pandas as pd"
   ]
  },
  {
   "cell_type": "code",
   "execution_count": 47,
   "id": "3664be21",
   "metadata": {},
   "outputs": [],
   "source": [
    "import cv2"
   ]
  },
  {
   "cell_type": "code",
   "execution_count": 51,
   "id": "70b00f10",
   "metadata": {},
   "outputs": [],
   "source": [
    "img = cv2.imread(im)"
   ]
  },
  {
   "cell_type": "code",
   "execution_count": 70,
   "id": "3336b92b",
   "metadata": {},
   "outputs": [],
   "source": [
    "new_width =640\n",
    "new_height=640\n",
    "\n",
    "# dsize\n",
    "dsize = (new_width, img.shape[0])\n",
    "dsize = (new_height,img.shape[1])\n",
    "# resize image\n",
    "output = cv2.resize(img, dsize, interpolation = cv2.INTER_AREA)"
   ]
  },
  {
   "cell_type": "code",
   "execution_count": 71,
   "id": "2ff2c11f",
   "metadata": {},
   "outputs": [
    {
     "data": {
      "text/plain": [
       "array([[[237, 237, 246],\n",
       "        [237, 237, 246],\n",
       "        [237, 237, 245],\n",
       "        ...,\n",
       "        [190, 210, 227],\n",
       "        [189, 210, 228],\n",
       "        [184, 208, 226]],\n",
       "\n",
       "       [[218, 218, 236],\n",
       "        [218, 218, 237],\n",
       "        [218, 218, 236],\n",
       "        ...,\n",
       "        [190, 210, 227],\n",
       "        [188, 210, 228],\n",
       "        [184, 208, 226]],\n",
       "\n",
       "       [[201, 201, 227],\n",
       "        [201, 201, 228],\n",
       "        [200, 200, 227],\n",
       "        ...,\n",
       "        [190, 210, 227],\n",
       "        [188, 210, 228],\n",
       "        [184, 208, 226]],\n",
       "\n",
       "       ...,\n",
       "\n",
       "       [[255, 255, 255],\n",
       "        [186, 186, 217],\n",
       "        [154, 151, 195],\n",
       "        ...,\n",
       "        [155, 141, 210],\n",
       "        [143, 132, 196],\n",
       "        [125, 114, 195]],\n",
       "\n",
       "       [[255, 255, 255],\n",
       "        [185, 185, 216],\n",
       "        [152, 149, 193],\n",
       "        ...,\n",
       "        [158, 144, 212],\n",
       "        [147, 136, 198],\n",
       "        [127, 116, 196]],\n",
       "\n",
       "       [[255, 255, 255],\n",
       "        [183, 185, 215],\n",
       "        [150, 147, 191],\n",
       "        ...,\n",
       "        [160, 147, 214],\n",
       "        [151, 140, 200],\n",
       "        [130, 119, 197]]], dtype=uint8)"
      ]
     },
     "execution_count": 71,
     "metadata": {},
     "output_type": "execute_result"
    }
   ],
   "source": [
    "output"
   ]
  },
  {
   "cell_type": "code",
   "execution_count": 8,
   "id": "e1010a82",
   "metadata": {},
   "outputs": [],
   "source": [
    "a1=a['xmin'][0],a['ymin'][0]\n",
    "a2=a['xmax'][0],a['ymax'][0]"
   ]
  },
  {
   "cell_type": "code",
   "execution_count": 12,
   "id": "795a0c0b",
   "metadata": {},
   "outputs": [
    {
     "data": {
      "text/plain": [
       "(1930.8731689453125, 172.29379272460938)"
      ]
     },
     "execution_count": 12,
     "metadata": {},
     "output_type": "execute_result"
    }
   ],
   "source": [
    "a2"
   ]
  },
  {
   "cell_type": "code",
   "execution_count": 13,
   "id": "bc0b2c50",
   "metadata": {},
   "outputs": [
    {
     "data": {
      "text/plain": [
       "True"
      ]
     },
     "execution_count": 13,
     "metadata": {},
     "output_type": "execute_result"
    }
   ],
   "source": [
    "# importing cv2 \n",
    "from datetime import datetime\n",
    "import cv2 \n",
    "\n",
    "current_datetime = datetime.now()\n",
    "# path \n",
    "path = r'/home/aimlgpu2/Amol/yolov5_ws/yolov5/test/pone15.jpg'\n",
    "   \n",
    "# Reading an image in default mode\n",
    "image = cv2.imread(path)\n",
    "\n",
    "# Start coordinate, here (5, 5)\n",
    "# represents the top left corner of rectangle\n",
    "start_point = (int(a['xmin'][0]),int(a['ymin'][0]))\n",
    "  \n",
    "# Ending coordinate, here (220, 220)\n",
    "# represents the bottom right corner of rectangle\n",
    "end_point = (int(a['xmax'][0]),int(a['ymax'][0]))\n",
    "  \n",
    "# Blue color in BGR\n",
    "color = (0,255,0)\n",
    "  \n",
    "# Line thickness of 2 px\n",
    "thickness = 2\n",
    "  \n",
    "# Using cv2.rectangle() method\n",
    "# Draw a rectangle with blue line borders of thickness of 2 px\n",
    "\n",
    "image = cv2.rectangle(image, start_point, end_point, color, thickness)\n",
    "cv2.imwrite('/home/aimlgpu2/Amol/yolov5_ws/yolov5/{}.jpg'.format(current_datetime),image)"
   ]
  },
  {
   "cell_type": "code",
   "execution_count": 47,
   "id": "fdd805a2",
   "metadata": {},
   "outputs": [
    {
     "data": {
      "text/plain": [
       "True"
      ]
     },
     "execution_count": 47,
     "metadata": {},
     "output_type": "execute_result"
    }
   ],
   "source": [
    "# importing cv2 \n",
    "from datetime import datetime\n",
    "import cv2 \n",
    "\n",
    "\n",
    "path = r'/home/aimlgpu2/Amol/yolov5_ws/yolov5/test/pone15.jpg'\n",
    "   \n",
    "# Reading an image in default mode\n",
    "image = cv2.imread(path)\n",
    "\n",
    "\n",
    "current_datetime = datetime.now()\n",
    "import math   \n",
    "for i in range (0,len(a)):\n",
    "    start_point = (math.floor(a['xmin'][i]),math.floor(a['ymin'][i]))\n",
    "    end_point = (math.floor(a['xmax'][i]),math.floor(a['ymax'][i]))\n",
    "    color = (0,255,0)\n",
    "    thickness = 2\n",
    "    image = cv2.rectangle(image, start_point, end_point, color, thickness)\n",
    "    img = cv2.putText(image,str(a['name'][i]), (int(a['xmin'][i])+20,int(a['ymin'][i])),cv2.FONT_HERSHEY_SIMPLEX, 0.6, (0,255,255), 1)\n",
    "                      \n",
    "cv2.imwrite('/home/aimlgpu2/Amol/yolov5_ws/yolov5/{}.jpg'.format(current_datetime),img)\n",
    "    "
   ]
  },
  {
   "cell_type": "code",
   "execution_count": 19,
   "id": "cb3b4120",
   "metadata": {},
   "outputs": [],
   "source": [
    "for i in range (0,len(a)):\n",
    "    start_point = (int(a['xmin'][i]),int(a['ymin'][i]))\n",
    "    end_point = (int(a['xmax'][i]),int(a['ymax'][i]))"
   ]
  },
  {
   "cell_type": "code",
   "execution_count": 68,
   "id": "9fb58698",
   "metadata": {},
   "outputs": [
    {
     "ename": "TypeError",
     "evalue": "int() argument must be a string, a bytes-like object or a number, not 'tuple'",
     "output_type": "error",
     "traceback": [
      "\u001b[0;31m---------------------------------------------------------------------------\u001b[0m",
      "\u001b[0;31mTypeError\u001b[0m                                 Traceback (most recent call last)",
      "Cell \u001b[0;32mIn[68], line 1\u001b[0m\n\u001b[0;32m----> 1\u001b[0m image \u001b[38;5;241m=\u001b[39m cv2\u001b[38;5;241m.\u001b[39mrectangle(img, \u001b[38;5;28;43mint\u001b[39;49m\u001b[43m(\u001b[49m\u001b[43ma1\u001b[49m\u001b[43m)\u001b[49m,\u001b[38;5;28mint\u001b[39m(a2),color\u001b[38;5;241m=\u001b[39m(\u001b[38;5;241m0\u001b[39m,\u001b[38;5;241m255\u001b[39m,\u001b[38;5;241m0\u001b[39m),thickness\u001b[38;5;241m=\u001b[39m\u001b[38;5;241m2\u001b[39m)\n",
      "\u001b[0;31mTypeError\u001b[0m: int() argument must be a string, a bytes-like object or a number, not 'tuple'"
     ]
    }
   ],
   "source": [
    "image = cv2.rectangle(img, int(a1),int(a2),color=(0,255,0),thickness=2)"
   ]
  },
  {
   "cell_type": "code",
   "execution_count": 34,
   "id": "95739b07",
   "metadata": {},
   "outputs": [
    {
     "data": {
      "text/plain": [
       "'/home/aimlgpu2/Amol/yolov5_ws/yolov5/test/pone15.jpg'"
      ]
     },
     "execution_count": 34,
     "metadata": {},
     "output_type": "execute_result"
    }
   ],
   "source": [
    "for bounding_box in predictions[\"predictions\"]:\n",
    "    x0 = bounding_box['x'] - bounding_box['width'] / 2\n",
    "    x1 = bounding_box['x'] + bounding_box['width'] / 2\n",
    "    y0 = bounding_box['y'] - bounding_box['height'] / 2\n",
    "    y1 = bounding_box['y'] + bounding_box['height'] / 2\n",
    "    \n",
    "    start_point = (int(x0), int(y0))\n",
    "    end_point = (int(x1), int(y1))\n",
    "    cv2.rectangle(img, start_point, end_point, color=(0,255,0), thickness=2)\n",
    "   \n",
    "cv2.imwrite(\"example_with_bounding_boxes.jpg\", image)"
   ]
  }
 ],
 "metadata": {
  "kernelspec": {
   "display_name": "Python 3 (ipykernel)",
   "language": "python",
   "name": "python3"
  },
  "language_info": {
   "codemirror_mode": {
    "name": "ipython",
    "version": 3
   },
   "file_extension": ".py",
   "mimetype": "text/x-python",
   "name": "python",
   "nbconvert_exporter": "python",
   "pygments_lexer": "ipython3",
   "version": "3.9.15"
  }
 },
 "nbformat": 4,
 "nbformat_minor": 5
}
