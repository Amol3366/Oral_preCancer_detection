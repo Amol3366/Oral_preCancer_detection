{
 "cells": [
  {
   "cell_type": "code",
   "execution_count": 1,
   "metadata": {
    "colab": {
     "base_uri": "https://localhost:8080/"
    },
    "executionInfo": {
     "elapsed": 100942,
     "status": "ok",
     "timestamp": 1675314631212,
     "user": {
      "displayName": "amol bhasre",
      "userId": "17636916736962431430"
     },
     "user_tz": -330
    },
    "id": "lj7rkhifLXtH",
    "outputId": "153d1156-93bf-4bb8-b24a-ec6e5aa689b5"
   },
   "outputs": [
    {
     "name": "stdout",
     "output_type": "stream",
     "text": [
      "Mounted at /content/drive\n"
     ]
    }
   ],
   "source": [
    "from google.colab import drive\n",
    "drive.mount('/content/drive')"
   ]
  },
  {
   "cell_type": "code",
   "execution_count": 2,
   "metadata": {
    "colab": {
     "base_uri": "https://localhost:8080/"
    },
    "executionInfo": {
     "elapsed": 516,
     "status": "ok",
     "timestamp": 1675314638364,
     "user": {
      "displayName": "amol bhasre",
      "userId": "17636916736962431430"
     },
     "user_tz": -330
    },
    "id": "zMjNRP53LdRo",
    "outputId": "964d1329-98f2-4c70-f09a-3ba0ebb548c3"
   },
   "outputs": [
    {
     "name": "stdout",
     "output_type": "stream",
     "text": [
      "/content/drive/MyDrive/yolov5_ws/yolov5\n"
     ]
    }
   ],
   "source": [
    "%cd '/content/drive/MyDrive/yolov5_ws/yolov5/'"
   ]
  },
  {
   "cell_type": "code",
   "execution_count": 1,
   "metadata": {},
   "outputs": [
    {
     "name": "stdout",
     "output_type": "stream",
     "text": [
      "/bin/bash: /home/aimlgpu2/miniconda3/envs/tf/lib/libtinfo.so.6: no version information available (required by /bin/bash)\r\n",
      "/home/aimlgpu2/Amol/yolov5_ws/yolov5\r\n"
     ]
    }
   ],
   "source": [
    "!pwd"
   ]
  },
  {
   "cell_type": "code",
   "execution_count": null,
   "metadata": {
    "colab": {
     "base_uri": "https://localhost:8080/",
     "height": 973
    },
    "executionInfo": {
     "elapsed": 9290,
     "status": "ok",
     "timestamp": 1675158645404,
     "user": {
      "displayName": "amol bhasre",
      "userId": "00610186493547658684"
     },
     "user_tz": -330
    },
    "id": "YwZ73MCyPC5i",
    "outputId": "a759ee56-021a-4a6e-a5ec-f1f08b51fb03"
   },
   "outputs": [
    {
     "name": "stdout",
     "output_type": "stream",
     "text": [
      "Reading package lists... Done\n",
      "Building dependency tree       \n",
      "Reading state information... Done\n",
      "The following additional packages will be installed:\n",
      "  tesseract-ocr-eng tesseract-ocr-osd\n",
      "The following NEW packages will be installed:\n",
      "  tesseract-ocr tesseract-ocr-eng tesseract-ocr-osd\n",
      "0 upgraded, 3 newly installed, 0 to remove and 27 not upgraded.\n",
      "Need to get 4,850 kB of archives.\n",
      "After this operation, 16.3 MB of additional disk space will be used.\n",
      "Get:1 http://archive.ubuntu.com/ubuntu focal/universe amd64 tesseract-ocr-eng all 1:4.00~git30-7274cfa-1 [1,598 kB]\n",
      "Get:2 http://archive.ubuntu.com/ubuntu focal/universe amd64 tesseract-ocr-osd all 1:4.00~git30-7274cfa-1 [2,990 kB]\n",
      "Get:3 http://archive.ubuntu.com/ubuntu focal/universe amd64 tesseract-ocr amd64 4.1.1-2build2 [262 kB]\n",
      "Fetched 4,850 kB in 0s (19.9 MB/s)\n",
      "debconf: unable to initialize frontend: Dialog\n",
      "debconf: (No usable dialog-like program is installed, so the dialog based frontend cannot be used. at /usr/share/perl5/Debconf/FrontEnd/Dialog.pm line 76, <> line 3.)\n",
      "debconf: falling back to frontend: Readline\n",
      "debconf: unable to initialize frontend: Readline\n",
      "debconf: (This frontend requires a controlling tty.)\n",
      "debconf: falling back to frontend: Teletype\n",
      "dpkg-preconfigure: unable to re-open stdin: \n",
      "Selecting previously unselected package tesseract-ocr-eng.\n",
      "(Reading database ... 129499 files and directories currently installed.)\n",
      "Preparing to unpack .../tesseract-ocr-eng_1%3a4.00~git30-7274cfa-1_all.deb ...\n",
      "Unpacking tesseract-ocr-eng (1:4.00~git30-7274cfa-1) ...\n",
      "Selecting previously unselected package tesseract-ocr-osd.\n",
      "Preparing to unpack .../tesseract-ocr-osd_1%3a4.00~git30-7274cfa-1_all.deb ...\n",
      "Unpacking tesseract-ocr-osd (1:4.00~git30-7274cfa-1) ...\n",
      "Selecting previously unselected package tesseract-ocr.\n",
      "Preparing to unpack .../tesseract-ocr_4.1.1-2build2_amd64.deb ...\n",
      "Unpacking tesseract-ocr (4.1.1-2build2) ...\n",
      "Setting up tesseract-ocr-eng (1:4.00~git30-7274cfa-1) ...\n",
      "Setting up tesseract-ocr-osd (1:4.00~git30-7274cfa-1) ...\n",
      "Setting up tesseract-ocr (4.1.1-2build2) ...\n",
      "Processing triggers for man-db (2.9.1-1) ...\n",
      "Looking in indexes: https://pypi.org/simple, https://us-python.pkg.dev/colab-wheels/public/simple/\n",
      "Collecting pytesseract\n",
      "  Downloading pytesseract-0.3.10-py3-none-any.whl (14 kB)\n",
      "Collecting Pillow>=8.0.0\n",
      "  Downloading Pillow-9.4.0-cp38-cp38-manylinux_2_28_x86_64.whl (3.4 MB)\n",
      "\u001b[2K     \u001b[90m━━━━━━━━━━━━━━━━━━━━━━━━━━━━━━━━━━━━━━━━\u001b[0m \u001b[32m3.4/3.4 MB\u001b[0m \u001b[31m93.6 MB/s\u001b[0m eta \u001b[36m0:00:00\u001b[0m\n",
      "\u001b[?25hRequirement already satisfied: packaging>=21.3 in /usr/local/lib/python3.8/dist-packages (from pytesseract) (21.3)\n",
      "Requirement already satisfied: pyparsing!=3.0.5,>=2.0.2 in /usr/local/lib/python3.8/dist-packages (from packaging>=21.3->pytesseract) (3.0.9)\n",
      "Installing collected packages: Pillow, pytesseract\n",
      "  Attempting uninstall: Pillow\n",
      "    Found existing installation: Pillow 7.1.2\n",
      "    Uninstalling Pillow-7.1.2:\n",
      "      Successfully uninstalled Pillow-7.1.2\n",
      "Successfully installed Pillow-9.4.0 pytesseract-0.3.10\n"
     ]
    },
    {
     "data": {
      "application/vnd.colab-display-data+json": {
       "pip_warning": {
        "packages": [
         "PIL"
        ]
       }
      }
     },
     "metadata": {},
     "output_type": "display_data"
    }
   ],
   "source": [
    "# !sudo apt install tesseract-ocr\n",
    "# !pip install pytesseract"
   ]
  },
  {
   "cell_type": "code",
   "execution_count": null,
   "metadata": {
    "colab": {
     "base_uri": "https://localhost:8080/"
    },
    "executionInfo": {
     "elapsed": 6329,
     "status": "ok",
     "timestamp": 1675159407928,
     "user": {
      "displayName": "amol bhasre",
      "userId": "00610186493547658684"
     },
     "user_tz": -330
    },
    "id": "_Te1oaBoPC8g",
    "outputId": "277c51cc-cf65-435f-f132-b9608132c705"
   },
   "outputs": [
    {
     "name": "stdout",
     "output_type": "stream",
     "text": [
      "Looking in indexes: https://pypi.org/simple, https://us-python.pkg.dev/colab-wheels/public/simple/\n",
      "Requirement already satisfied: opencv-python in /usr/local/lib/python3.8/dist-packages (4.6.0.66)\n",
      "Requirement already satisfied: numpy>=1.14.5 in /usr/local/lib/python3.8/dist-packages (from opencv-python) (1.21.6)\n",
      "Looking in indexes: https://pypi.org/simple, https://us-python.pkg.dev/colab-wheels/public/simple/\n",
      "Requirement already satisfied: tensorflow in /usr/local/lib/python3.8/dist-packages (2.9.2)\n",
      "Requirement already satisfied: tensorboard<2.10,>=2.9 in /usr/local/lib/python3.8/dist-packages (from tensorflow) (2.9.1)\n",
      "Requirement already satisfied: absl-py>=1.0.0 in /usr/local/lib/python3.8/dist-packages (from tensorflow) (1.3.0)\n",
      "Requirement already satisfied: keras-preprocessing>=1.1.1 in /usr/local/lib/python3.8/dist-packages (from tensorflow) (1.1.2)\n",
      "Requirement already satisfied: libclang>=13.0.0 in /usr/local/lib/python3.8/dist-packages (from tensorflow) (15.0.6.1)\n",
      "Requirement already satisfied: termcolor>=1.1.0 in /usr/local/lib/python3.8/dist-packages (from tensorflow) (2.2.0)\n",
      "Requirement already satisfied: gast<=0.4.0,>=0.2.1 in /usr/local/lib/python3.8/dist-packages (from tensorflow) (0.4.0)\n",
      "Requirement already satisfied: opt-einsum>=2.3.2 in /usr/local/lib/python3.8/dist-packages (from tensorflow) (3.3.0)\n",
      "Requirement already satisfied: grpcio<2.0,>=1.24.3 in /usr/local/lib/python3.8/dist-packages (from tensorflow) (1.51.1)\n",
      "Requirement already satisfied: six>=1.12.0 in /usr/local/lib/python3.8/dist-packages (from tensorflow) (1.15.0)\n",
      "Requirement already satisfied: protobuf<3.20,>=3.9.2 in /usr/local/lib/python3.8/dist-packages (from tensorflow) (3.19.6)\n",
      "Requirement already satisfied: google-pasta>=0.1.1 in /usr/local/lib/python3.8/dist-packages (from tensorflow) (0.2.0)\n",
      "Requirement already satisfied: tensorflow-estimator<2.10.0,>=2.9.0rc0 in /usr/local/lib/python3.8/dist-packages (from tensorflow) (2.9.0)\n",
      "Requirement already satisfied: setuptools in /usr/local/lib/python3.8/dist-packages (from tensorflow) (57.4.0)\n",
      "Requirement already satisfied: numpy>=1.20 in /usr/local/lib/python3.8/dist-packages (from tensorflow) (1.21.6)\n",
      "Requirement already satisfied: astunparse>=1.6.0 in /usr/local/lib/python3.8/dist-packages (from tensorflow) (1.6.3)\n",
      "Requirement already satisfied: keras<2.10.0,>=2.9.0rc0 in /usr/local/lib/python3.8/dist-packages (from tensorflow) (2.9.0)\n",
      "Requirement already satisfied: h5py>=2.9.0 in /usr/local/lib/python3.8/dist-packages (from tensorflow) (3.1.0)\n",
      "Requirement already satisfied: flatbuffers<2,>=1.12 in /usr/local/lib/python3.8/dist-packages (from tensorflow) (1.12)\n",
      "Requirement already satisfied: typing-extensions>=3.6.6 in /usr/local/lib/python3.8/dist-packages (from tensorflow) (4.4.0)\n",
      "Requirement already satisfied: wrapt>=1.11.0 in /usr/local/lib/python3.8/dist-packages (from tensorflow) (1.14.1)\n",
      "Requirement already satisfied: tensorflow-io-gcs-filesystem>=0.23.1 in /usr/local/lib/python3.8/dist-packages (from tensorflow) (0.29.0)\n",
      "Requirement already satisfied: packaging in /usr/local/lib/python3.8/dist-packages (from tensorflow) (21.3)\n",
      "Requirement already satisfied: wheel<1.0,>=0.23.0 in /usr/local/lib/python3.8/dist-packages (from astunparse>=1.6.0->tensorflow) (0.38.4)\n",
      "Requirement already satisfied: werkzeug>=1.0.1 in /usr/local/lib/python3.8/dist-packages (from tensorboard<2.10,>=2.9->tensorflow) (1.0.1)\n",
      "Requirement already satisfied: markdown>=2.6.8 in /usr/local/lib/python3.8/dist-packages (from tensorboard<2.10,>=2.9->tensorflow) (3.4.1)\n",
      "Requirement already satisfied: tensorboard-plugin-wit>=1.6.0 in /usr/local/lib/python3.8/dist-packages (from tensorboard<2.10,>=2.9->tensorflow) (1.8.1)\n",
      "Requirement already satisfied: google-auth-oauthlib<0.5,>=0.4.1 in /usr/local/lib/python3.8/dist-packages (from tensorboard<2.10,>=2.9->tensorflow) (0.4.6)\n",
      "Requirement already satisfied: google-auth<3,>=1.6.3 in /usr/local/lib/python3.8/dist-packages (from tensorboard<2.10,>=2.9->tensorflow) (2.16.0)\n",
      "Requirement already satisfied: tensorboard-data-server<0.7.0,>=0.6.0 in /usr/local/lib/python3.8/dist-packages (from tensorboard<2.10,>=2.9->tensorflow) (0.6.1)\n",
      "Requirement already satisfied: requests<3,>=2.21.0 in /usr/local/lib/python3.8/dist-packages (from tensorboard<2.10,>=2.9->tensorflow) (2.25.1)\n",
      "Requirement already satisfied: pyparsing!=3.0.5,>=2.0.2 in /usr/local/lib/python3.8/dist-packages (from packaging->tensorflow) (3.0.9)\n",
      "Requirement already satisfied: rsa<5,>=3.1.4 in /usr/local/lib/python3.8/dist-packages (from google-auth<3,>=1.6.3->tensorboard<2.10,>=2.9->tensorflow) (4.9)\n",
      "Requirement already satisfied: cachetools<6.0,>=2.0.0 in /usr/local/lib/python3.8/dist-packages (from google-auth<3,>=1.6.3->tensorboard<2.10,>=2.9->tensorflow) (5.2.1)\n",
      "Requirement already satisfied: pyasn1-modules>=0.2.1 in /usr/local/lib/python3.8/dist-packages (from google-auth<3,>=1.6.3->tensorboard<2.10,>=2.9->tensorflow) (0.2.8)\n",
      "Requirement already satisfied: requests-oauthlib>=0.7.0 in /usr/local/lib/python3.8/dist-packages (from google-auth-oauthlib<0.5,>=0.4.1->tensorboard<2.10,>=2.9->tensorflow) (1.3.1)\n",
      "Requirement already satisfied: importlib-metadata>=4.4 in /usr/local/lib/python3.8/dist-packages (from markdown>=2.6.8->tensorboard<2.10,>=2.9->tensorflow) (6.0.0)\n",
      "Requirement already satisfied: urllib3<1.27,>=1.21.1 in /usr/local/lib/python3.8/dist-packages (from requests<3,>=2.21.0->tensorboard<2.10,>=2.9->tensorflow) (1.24.3)\n",
      "Requirement already satisfied: chardet<5,>=3.0.2 in /usr/local/lib/python3.8/dist-packages (from requests<3,>=2.21.0->tensorboard<2.10,>=2.9->tensorflow) (4.0.0)\n",
      "Requirement already satisfied: certifi>=2017.4.17 in /usr/local/lib/python3.8/dist-packages (from requests<3,>=2.21.0->tensorboard<2.10,>=2.9->tensorflow) (2022.12.7)\n",
      "Requirement already satisfied: idna<3,>=2.5 in /usr/local/lib/python3.8/dist-packages (from requests<3,>=2.21.0->tensorboard<2.10,>=2.9->tensorflow) (2.10)\n",
      "Requirement already satisfied: zipp>=0.5 in /usr/local/lib/python3.8/dist-packages (from importlib-metadata>=4.4->markdown>=2.6.8->tensorboard<2.10,>=2.9->tensorflow) (3.11.0)\n",
      "Requirement already satisfied: pyasn1<0.5.0,>=0.4.6 in /usr/local/lib/python3.8/dist-packages (from pyasn1-modules>=0.2.1->google-auth<3,>=1.6.3->tensorboard<2.10,>=2.9->tensorflow) (0.4.8)\n",
      "Requirement already satisfied: oauthlib>=3.0.0 in /usr/local/lib/python3.8/dist-packages (from requests-oauthlib>=0.7.0->google-auth-oauthlib<0.5,>=0.4.1->tensorboard<2.10,>=2.9->tensorflow) (3.2.2)\n"
     ]
    }
   ],
   "source": [
    "# !pip install opencv-python\n",
    "# !pip install tensorflow"
   ]
  },
  {
   "cell_type": "code",
   "execution_count": null,
   "metadata": {
    "id": "b3Z7OwU6PDDn"
   },
   "outputs": [],
   "source": [
    "import cv2\n",
    "import tensorflow as tf"
   ]
  },
  {
   "cell_type": "code",
   "execution_count": null,
   "metadata": {
    "colab": {
     "base_uri": "https://localhost:8080/",
     "height": 36
    },
    "executionInfo": {
     "elapsed": 13,
     "status": "ok",
     "timestamp": 1675159410770,
     "user": {
      "displayName": "amol bhasre",
      "userId": "00610186493547658684"
     },
     "user_tz": -330
    },
    "id": "uw3akC0WPk_7",
    "outputId": "d1761f2a-1628-4a82-ae51-88218a20c45d"
   },
   "outputs": [
    {
     "data": {
      "application/vnd.google.colaboratory.intrinsic+json": {
       "type": "string"
      },
      "text/plain": [
       "'2.9.2'"
      ]
     },
     "execution_count": 18,
     "metadata": {},
     "output_type": "execute_result"
    }
   ],
   "source": [
    "tf.__version__"
   ]
  },
  {
   "cell_type": "code",
   "execution_count": null,
   "metadata": {
    "id": "JPAhOPCkPlCz"
   },
   "outputs": [],
   "source": []
  },
  {
   "cell_type": "code",
   "execution_count": null,
   "metadata": {
    "id": "nngFujcfPlKS"
   },
   "outputs": [],
   "source": []
  },
  {
   "cell_type": "code",
   "execution_count": null,
   "metadata": {
    "colab": {
     "base_uri": "https://localhost:8080/"
    },
    "executionInfo": {
     "elapsed": 2858,
     "status": "ok",
     "timestamp": 1675159416872,
     "user": {
      "displayName": "amol bhasre",
      "userId": "00610186493547658684"
     },
     "user_tz": -330
    },
    "id": "hdV1U6jJLdUq",
    "outputId": "456eaa12-4b92-4cbe-d927-6412f10c5e72"
   },
   "outputs": [
    {
     "name": "stdout",
     "output_type": "stream",
     "text": [
      "Cloning into 'yolov5'...\n",
      "remote: Enumerating objects: 15002, done.\u001b[K\n",
      "remote: Total 15002 (delta 0), reused 0 (delta 0), pack-reused 15002\u001b[K\n",
      "Receiving objects: 100% (15002/15002), 14.08 MiB | 15.47 MiB/s, done.\n",
      "Resolving deltas: 100% (10285/10285), done.\n"
     ]
    }
   ],
   "source": [
    "!git clone https://github.com/ultralytics/yolov5  \n"
   ]
  },
  {
   "cell_type": "code",
   "execution_count": null,
   "metadata": {
    "id": "Ykl2IDpULdXo"
   },
   "outputs": [],
   "source": [
    "%%bash\n",
    "cd yolov5\n",
    "pip install -qr requirements.txt  "
   ]
  },
  {
   "cell_type": "code",
   "execution_count": null,
   "metadata": {
    "colab": {
     "base_uri": "https://localhost:8080/",
     "height": 391
    },
    "executionInfo": {
     "elapsed": 4069,
     "status": "error",
     "timestamp": 1675233372237,
     "user": {
      "displayName": "amol bhasre",
      "userId": "00610186493547658684"
     },
     "user_tz": -330
    },
    "id": "x4laNYJALdad",
    "outputId": "30879f04-bcf0-4687-f351-73dd1513ab91"
   },
   "outputs": [
    {
     "name": "stdout",
     "output_type": "stream",
     "text": [
      "[Errno 2] No such file or directory: '/content/drive/MyDrive/My projects/Oral_cancer/Oral_cacer/yolov5'\n",
      "/content/drive/MyDrive/My projects/yolov5_ws/yolov5\n"
     ]
    },
    {
     "ename": "ModuleNotFoundError",
     "evalue": "ignored",
     "output_type": "error",
     "traceback": [
      "\u001b[0;31m---------------------------------------------------------------------------\u001b[0m",
      "\u001b[0;31mModuleNotFoundError\u001b[0m                       Traceback (most recent call last)",
      "\u001b[0;32m<ipython-input-3-c514743d71d1>\u001b[0m in \u001b[0;36m<module>\u001b[0;34m\u001b[0m\n\u001b[1;32m      1\u001b[0m \u001b[0mget_ipython\u001b[0m\u001b[0;34m(\u001b[0m\u001b[0;34m)\u001b[0m\u001b[0;34m.\u001b[0m\u001b[0mrun_line_magic\u001b[0m\u001b[0;34m(\u001b[0m\u001b[0;34m'cd'\u001b[0m\u001b[0;34m,\u001b[0m \u001b[0;34m\"'/content/drive/MyDrive/My projects/Oral_cancer/Oral_cacer/yolov5'\"\u001b[0m\u001b[0;34m)\u001b[0m\u001b[0;34m\u001b[0m\u001b[0;34m\u001b[0m\u001b[0m\n\u001b[1;32m      2\u001b[0m \u001b[0;32mimport\u001b[0m \u001b[0mtorch\u001b[0m\u001b[0;34m\u001b[0m\u001b[0;34m\u001b[0m\u001b[0m\n\u001b[0;32m----> 3\u001b[0;31m \u001b[0;32mfrom\u001b[0m \u001b[0myolov5\u001b[0m \u001b[0;32mimport\u001b[0m \u001b[0mutils\u001b[0m\u001b[0;34m\u001b[0m\u001b[0;34m\u001b[0m\u001b[0m\n\u001b[0m\u001b[1;32m      4\u001b[0m \u001b[0mdisplay\u001b[0m \u001b[0;34m=\u001b[0m \u001b[0mutils\u001b[0m\u001b[0;34m.\u001b[0m\u001b[0mnotebook_init\u001b[0m\u001b[0;34m(\u001b[0m\u001b[0;34m)\u001b[0m\u001b[0;34m\u001b[0m\u001b[0;34m\u001b[0m\u001b[0m\n",
      "\u001b[0;31mModuleNotFoundError\u001b[0m: No module named 'yolov5'",
      "",
      "\u001b[0;31m---------------------------------------------------------------------------\u001b[0;32m\nNOTE: If your import is failing due to a missing package, you can\nmanually install dependencies using either !pip or !apt.\n\nTo view examples of installing some common dependencies, click the\n\"Open Examples\" button below.\n\u001b[0;31m---------------------------------------------------------------------------\u001b[0m\n"
     ]
    }
   ],
   "source": [
    "%cd '/content/drive/MyDrive/My projects/Oral_cancer/Oral_cacer/yolov5'\n",
    "import torch\n",
    "from yolov5 import utils\n",
    "display = utils.notebook_init() "
   ]
  },
  {
   "cell_type": "code",
   "execution_count": null,
   "metadata": {
    "colab": {
     "base_uri": "https://localhost:8080/"
    },
    "executionInfo": {
     "elapsed": 4,
     "status": "ok",
     "timestamp": 1675159626554,
     "user": {
      "displayName": "amol bhasre",
      "userId": "00610186493547658684"
     },
     "user_tz": -330
    },
    "id": "0AFop0HvLdkX",
    "outputId": "3ec1cd32-f5db-4f75-bacf-2e4342b10855"
   },
   "outputs": [
    {
     "name": "stdout",
     "output_type": "stream",
     "text": [
      "/content/drive/MyDrive/My projects/Oral_cancer/Oral_cacer\n"
     ]
    }
   ],
   "source": [
    "%cd .."
   ]
  },
  {
   "cell_type": "code",
   "execution_count": 1,
   "metadata": {},
   "outputs": [
    {
     "data": {
      "text/plain": [
       "'/home/aimlgpu2/Amol/yolov5_ws/yolov5'"
      ]
     },
     "execution_count": 1,
     "metadata": {},
     "output_type": "execute_result"
    }
   ],
   "source": [
    "pwd"
   ]
  },
  {
   "cell_type": "code",
   "execution_count": null,
   "metadata": {
    "colab": {
     "base_uri": "https://localhost:8080/"
    },
    "executionInfo": {
     "elapsed": 23119,
     "status": "ok",
     "timestamp": 1675164921404,
     "user": {
      "displayName": "amol bhasre",
      "userId": "00610186493547658684"
     },
     "user_tz": -330
    },
    "id": "tFVq0KhXS09R",
    "outputId": "5823cf62-f4f1-4ffd-f953-e89a5ad872fc"
   },
   "outputs": [
    {
     "name": "stdout",
     "output_type": "stream",
     "text": [
      "copying training data\n",
      "copying validation data\n",
      "finished\n"
     ]
    }
   ],
   "source": [
    "import os, shutil, random\n",
    "\n",
    "# preparing the folder structure\n",
    "\n",
    "full_data_path = '/content/drive/MyDrive/My projects/Oral_cancer/Oral_cacer/yolov5/data/mix_oral/'\n",
    "extension_allowed = '.jpg'\n",
    "split_percentage = 90\n",
    "\n",
    "images_path = '/content/drive/MyDrive/My projects/Oral_cancer/Oral_cacer/yolov5/data/Images/'\n",
    "if os.path.exists(images_path):\n",
    "    shutil.rmtree(images_path)\n",
    "os.mkdir(images_path)\n",
    "    \n",
    "labels_path = '/content/drive/MyDrive/My projects/Oral_cancer/Oral_cacer/yolov5/data/labels/'\n",
    "if os.path.exists(labels_path):\n",
    "    shutil.rmtree(labels_path)\n",
    "os.mkdir(labels_path)\n",
    "    \n",
    "training_images_path = images_path + 'training/'\n",
    "validation_images_path = images_path + 'validation/'\n",
    "training_labels_path = labels_path + 'training/'\n",
    "validation_labels_path = labels_path +'validation/'\n",
    "    \n",
    "os.mkdir(training_images_path)\n",
    "os.mkdir(validation_images_path)\n",
    "os.mkdir(training_labels_path)\n",
    "os.mkdir(validation_labels_path)\n",
    "\n",
    "files = []\n",
    "\n",
    "ext_len = len(extension_allowed)\n",
    "\n",
    "for r, d, f in os.walk(full_data_path):\n",
    "    for file in f:\n",
    "        if file.endswith(extension_allowed):\n",
    "            strip = file[0:len(file) - ext_len]      \n",
    "            files.append(strip)\n",
    "\n",
    "random.shuffle(files)\n",
    "\n",
    "size = len(files)                   \n",
    "\n",
    "split = int(split_percentage * size / 100)\n",
    "\n",
    "print(\"copying training data\")\n",
    "for i in range(split):\n",
    "    strip = files[i]\n",
    "                         \n",
    "    image_file = strip + extension_allowed\n",
    "    src_image = full_data_path + image_file\n",
    "    shutil.copy(src_image, training_images_path) \n",
    "                         \n",
    "    annotation_file = strip + '.txt'\n",
    "    src_label = full_data_path + annotation_file\n",
    "    shutil.copy(src_label, training_labels_path) \n",
    "\n",
    "print(\"copying validation data\")\n",
    "for i in range(split, size):\n",
    "    strip = files[i]\n",
    "                         \n",
    "    image_file = strip + extension_allowed\n",
    "    src_image = full_data_path + image_file\n",
    "    shutil.copy(src_image, validation_images_path) \n",
    "                         \n",
    "    annotation_file = strip + '.txt'\n",
    "    src_label = full_data_path + annotation_file\n",
    "    shutil.copy(src_label, validation_labels_path) \n",
    "\n",
    "print(\"finished\")"
   ]
  },
  {
   "cell_type": "code",
   "execution_count": null,
   "metadata": {
    "colab": {
     "base_uri": "https://localhost:8080/"
    },
    "executionInfo": {
     "elapsed": 916,
     "status": "ok",
     "timestamp": 1675235196411,
     "user": {
      "displayName": "amol bhasre",
      "userId": "00610186493547658684"
     },
     "user_tz": -330
    },
    "id": "Tg3baWZXyn4f",
    "outputId": "1abda157-a238-4c7d-a13e-02253c13ef41"
   },
   "outputs": [
    {
     "name": "stdout",
     "output_type": "stream",
     "text": [
      "benchmarks.py    detect.py         \u001b[0m\u001b[01;34m__pycache__\u001b[0m/      setup.cfg\n",
      "CITATION.cff     export.py         README.md         train.py\n",
      "\u001b[01;34mclassify\u001b[0m/        hubconf.py        README.zh-CN.md   tutorial.ipynb\n",
      "CONTRIBUTING.md  LICENSE           requirements.txt  \u001b[01;34mutils\u001b[0m/\n",
      "\u001b[01;34mdata\u001b[0m/            \u001b[01;34mmodels\u001b[0m/           \u001b[01;34mruns\u001b[0m/             val.py\n",
      "dataset.yaml     oral_train.ipynb  \u001b[01;34msegment\u001b[0m/          yolov5s.pt\n"
     ]
    }
   ],
   "source": [
    "ls\n"
   ]
  },
  {
   "cell_type": "code",
   "execution_count": null,
   "metadata": {
    "colab": {
     "base_uri": "https://localhost:8080/"
    },
    "executionInfo": {
     "elapsed": 612,
     "status": "ok",
     "timestamp": 1675236300855,
     "user": {
      "displayName": "amol bhasre",
      "userId": "00610186493547658684"
     },
     "user_tz": -330
    },
    "id": "XHi3UR6GyreS",
    "outputId": "b92e5144-2cc2-4094-d856-5d091cfed679"
   },
   "outputs": [
    {
     "name": "stdout",
     "output_type": "stream",
     "text": [
      "/content/drive/MyDrive/My projects/yolov5_ws\n"
     ]
    }
   ],
   "source": [
    "cd ..\n"
   ]
  },
  {
   "cell_type": "code",
   "execution_count": 2,
   "metadata": {},
   "outputs": [
    {
     "name": "stderr",
     "output_type": "stream",
     "text": [
      "Traceback (most recent call last):\n",
      "  File \"train.py\", line 29, in <module>\n",
      "    import torch\n",
      "ModuleNotFoundError: No module named 'torch'\n"
     ]
    }
   ],
   "source": [
    "! python train.py --hyp hyp.scratch-low.yaml --data dataset.yaml"
   ]
  },
  {
   "cell_type": "code",
   "execution_count": 30,
   "metadata": {},
   "outputs": [
    {
     "name": "stdout",
     "output_type": "stream",
     "text": [
      "/bin/bash: /home/aimlgpu2/miniconda3/envs/tf/lib/libtinfo.so.6: no version information available (required by /bin/bash)\n",
      "\u001b[34m\u001b[1mdetect: \u001b[0mweights=['/home/aimlgpu2/Amol/yolov5_ws/yolov5/runs/train/exp24/weights/best.pt'], source=/home/aimlgpu2/Amol/yolov5_ws/yolov5/test/pone15.jpg, data=data/coco128.yaml, imgsz=[640, 640], conf_thres=0.25, iou_thres=0.45, max_det=1000, device=, view_img=False, save_txt=False, save_conf=False, save_crop=False, nosave=False, classes=None, agnostic_nms=False, augment=False, visualize=False, update=False, project=runs/detect, name=exp, exist_ok=False, line_thickness=3, hide_labels=False, hide_conf=False, half=False, dnn=False, vid_stride=1\n",
      "YOLOv5 🚀 v7.0-72-g064365d Python-3.9.15 torch-1.11.0+cu113 CUDA:0 (Tesla V100-PCIE-32GB, 32501MiB)\n",
      "\n",
      "Fusing layers... \n",
      "Model summary: 157 layers, 7029004 parameters, 0 gradients, 15.8 GFLOPs\n",
      "image 1/1 /home/aimlgpu2/Amol/yolov5_ws/yolov5/test/pone15.jpg: 448x640 5 Gingivitiss, 3 Dental_Cariess, 10.1ms\n",
      "Speed: 0.5ms pre-process, 10.1ms inference, 1.4ms NMS per image at shape (1, 3, 640, 640)\n",
      "Results saved to \u001b[1mruns/detect/exp18\u001b[0m\n"
     ]
    }
   ],
   "source": [
    "!python detect.py --weights /home/aimlgpu2/Amol/yolov5_ws/yolov5/runs/train/exp24/weights/best.pt --img 640 --source /home/aimlgpu2/Amol/yolov5_ws/yolov5/test/pone15.jpg"
   ]
  },
  {
   "cell_type": "code",
   "execution_count": 4,
   "metadata": {},
   "outputs": [
    {
     "name": "stdout",
     "output_type": "stream",
     "text": [
      "/bin/bash: /home/aimlgpu2/miniconda3/envs/tf/lib/libtinfo.so.6: no version information available (required by /bin/bash)\r\n",
      "/home/aimlgpu2/Amol/yolov5_ws/yolov5\r\n"
     ]
    }
   ],
   "source": [
    "!pwd"
   ]
  },
  {
   "cell_type": "code",
   "execution_count": null,
   "metadata": {},
   "outputs": [],
   "source": []
  },
  {
   "cell_type": "code",
   "execution_count": 2,
   "metadata": {
    "colab": {
     "base_uri": "https://localhost:8080/"
    },
    "id": "yFTmX5OYS1AH",
    "outputId": "26976863-3c5b-4cb3-d110-528179a75312"
   },
   "outputs": [
    {
     "name": "stdout",
     "output_type": "stream",
     "text": [
      "/bin/bash: /home/aimlgpu2/miniconda3/envs/tf/lib/libtinfo.so.6: no version information available (required by /bin/bash)\n",
      "\u001b[34m\u001b[1mtrain: \u001b[0mweights=yolov5m.pt, cfg=, data=dataset.yaml, hyp=data/hyps/hyp.scratch-low.yaml, epochs=500, batch_size=16, imgsz=640, rect=False, resume=False, nosave=False, noval=False, noautoanchor=False, noplots=False, evolve=None, bucket=, cache=None, image_weights=False, device=, multi_scale=False, single_cls=False, optimizer=SGD, sync_bn=False, workers=8, project=runs/train, name=exp, exist_ok=False, quad=False, cos_lr=False, label_smoothing=0.0, patience=100, freeze=[0], save_period=-1, seed=0, local_rank=-1, entity=None, upload_dataset=False, bbox_interval=-1, artifact_alias=latest\n",
      "remote: Enumerating objects: 132, done.\u001b[K\n",
      "remote: Counting objects: 100% (93/93), done.\u001b[K\n",
      "remote: Compressing objects: 100% (12/12), done.\u001b[K\n",
      "remote: Total 132 (delta 82), reused 86 (delta 81), pack-reused 39\u001b[K\n",
      "Receiving objects: 100% (132/132), 135.95 KiB | 2.03 MiB/s, done.\n",
      "Resolving deltas: 100% (84/84), completed with 29 local objects.\n",
      "From https://github.com/ultralytics/yolov5\n",
      "   4db6757..23c4923  master     -> origin/master\n",
      "   6ac4c48..8e0c488  benchmarks -> origin/benchmarks\n",
      "   00070f3..343134f  exp13-soft -> origin/exp13-soft\n",
      "\u001b[34m\u001b[1mgithub: \u001b[0m⚠️ YOLOv5 is out of date by 62 commits. Use `git pull` or `git clone https://github.com/ultralytics/yolov5` to update.\n",
      "\u001b[31m\u001b[1mrequirements:\u001b[0m YOLOv5 requirement \"tensorboard>=2.4.1\" not found, attempting AutoUpdate...\n",
      "Requirement already satisfied: tensorboard>=2.4.1 in /home/aimlgpu2/miniconda3/envs/tf/lib/python3.9/site-packages (2.11.0)\n",
      "Requirement already satisfied: markdown>=2.6.8 in /home/aimlgpu2/miniconda3/envs/tf/lib/python3.9/site-packages (from tensorboard>=2.4.1) (3.4.1)\n",
      "Requirement already satisfied: werkzeug>=1.0.1 in /home/aimlgpu2/miniconda3/envs/tf/lib/python3.9/site-packages (from tensorboard>=2.4.1) (2.2.2)\n",
      "Requirement already satisfied: grpcio>=1.24.3 in /home/aimlgpu2/miniconda3/envs/tf/lib/python3.9/site-packages (from tensorboard>=2.4.1) (1.51.1)\n",
      "Requirement already satisfied: wheel>=0.26 in /home/aimlgpu2/miniconda3/envs/tf/lib/python3.9/site-packages (from tensorboard>=2.4.1) (0.38.4)\n",
      "Requirement already satisfied: tensorboard-plugin-wit>=1.6.0 in /home/aimlgpu2/miniconda3/envs/tf/lib/python3.9/site-packages (from tensorboard>=2.4.1) (1.8.1)\n",
      "Requirement already satisfied: absl-py>=0.4 in /home/aimlgpu2/miniconda3/envs/tf/lib/python3.9/site-packages (from tensorboard>=2.4.1) (1.3.0)\n",
      "Requirement already satisfied: google-auth-oauthlib<0.5,>=0.4.1 in /home/aimlgpu2/miniconda3/envs/tf/lib/python3.9/site-packages (from tensorboard>=2.4.1) (0.4.6)\n",
      "Requirement already satisfied: tensorboard-data-server<0.7.0,>=0.6.0 in /home/aimlgpu2/miniconda3/envs/tf/lib/python3.9/site-packages (from tensorboard>=2.4.1) (0.6.1)\n",
      "Requirement already satisfied: numpy>=1.12.0 in /home/aimlgpu2/miniconda3/envs/tf/lib/python3.9/site-packages (from tensorboard>=2.4.1) (1.23.5)\n",
      "Requirement already satisfied: setuptools>=41.0.0 in /home/aimlgpu2/miniconda3/envs/tf/lib/python3.9/site-packages (from tensorboard>=2.4.1) (67.4.0)\n",
      "Requirement already satisfied: protobuf<4,>=3.9.2 in /home/aimlgpu2/miniconda3/envs/tf/lib/python3.9/site-packages (from tensorboard>=2.4.1) (3.20.3)\n",
      "Requirement already satisfied: requests<3,>=2.21.0 in /home/aimlgpu2/miniconda3/envs/tf/lib/python3.9/site-packages (from tensorboard>=2.4.1) (2.28.1)\n",
      "Requirement already satisfied: google-auth<3,>=1.6.3 in /home/aimlgpu2/miniconda3/envs/tf/lib/python3.9/site-packages (from tensorboard>=2.4.1) (2.15.0)\n",
      "Requirement already satisfied: pyasn1-modules>=0.2.1 in /home/aimlgpu2/miniconda3/envs/tf/lib/python3.9/site-packages (from google-auth<3,>=1.6.3->tensorboard>=2.4.1) (0.2.8)\n",
      "Requirement already satisfied: rsa<5,>=3.1.4 in /home/aimlgpu2/miniconda3/envs/tf/lib/python3.9/site-packages (from google-auth<3,>=1.6.3->tensorboard>=2.4.1) (4.9)\n",
      "Requirement already satisfied: six>=1.9.0 in /home/aimlgpu2/miniconda3/envs/tf/lib/python3.9/site-packages (from google-auth<3,>=1.6.3->tensorboard>=2.4.1) (1.16.0)\n",
      "Requirement already satisfied: cachetools<6.0,>=2.0.0 in /home/aimlgpu2/miniconda3/envs/tf/lib/python3.9/site-packages (from google-auth<3,>=1.6.3->tensorboard>=2.4.1) (5.2.0)\n",
      "Requirement already satisfied: requests-oauthlib>=0.7.0 in /home/aimlgpu2/miniconda3/envs/tf/lib/python3.9/site-packages (from google-auth-oauthlib<0.5,>=0.4.1->tensorboard>=2.4.1) (1.3.1)\n",
      "Requirement already satisfied: importlib-metadata>=4.4 in /home/aimlgpu2/miniconda3/envs/tf/lib/python3.9/site-packages (from markdown>=2.6.8->tensorboard>=2.4.1) (5.2.0)\n",
      "Requirement already satisfied: certifi>=2017.4.17 in /home/aimlgpu2/miniconda3/envs/tf/lib/python3.9/site-packages (from requests<3,>=2.21.0->tensorboard>=2.4.1) (2022.12.7)\n",
      "Requirement already satisfied: urllib3<1.27,>=1.21.1 in /home/aimlgpu2/miniconda3/envs/tf/lib/python3.9/site-packages (from requests<3,>=2.21.0->tensorboard>=2.4.1) (1.26.13)\n",
      "Requirement already satisfied: idna<4,>=2.5 in /home/aimlgpu2/miniconda3/envs/tf/lib/python3.9/site-packages (from requests<3,>=2.21.0->tensorboard>=2.4.1) (3.4)\n",
      "Requirement already satisfied: charset-normalizer<3,>=2 in /home/aimlgpu2/miniconda3/envs/tf/lib/python3.9/site-packages (from requests<3,>=2.21.0->tensorboard>=2.4.1) (2.1.1)\n",
      "Requirement already satisfied: MarkupSafe>=2.1.1 in /home/aimlgpu2/miniconda3/envs/tf/lib/python3.9/site-packages (from werkzeug>=1.0.1->tensorboard>=2.4.1) (2.1.1)\n",
      "Requirement already satisfied: zipp>=0.5 in /home/aimlgpu2/miniconda3/envs/tf/lib/python3.9/site-packages (from importlib-metadata>=4.4->markdown>=2.6.8->tensorboard>=2.4.1) (3.11.0)\n",
      "Requirement already satisfied: pyasn1<0.5.0,>=0.4.6 in /home/aimlgpu2/miniconda3/envs/tf/lib/python3.9/site-packages (from pyasn1-modules>=0.2.1->google-auth<3,>=1.6.3->tensorboard>=2.4.1) (0.4.8)\n",
      "Requirement already satisfied: oauthlib>=3.0.0 in /home/aimlgpu2/miniconda3/envs/tf/lib/python3.9/site-packages (from requests-oauthlib>=0.7.0->google-auth-oauthlib<0.5,>=0.4.1->tensorboard>=2.4.1) (3.2.2)\n",
      "\n",
      "\u001b[31m\u001b[1mrequirements:\u001b[0m 1 package updated per /home/aimlgpu2/Amol/yolov5_ws/yolov5/requirements.txt\n",
      "\u001b[31m\u001b[1mrequirements:\u001b[0m ⚠️ \u001b[1mRestart runtime or rerun command for updates to take effect\u001b[0m\n",
      "\n",
      "YOLOv5 🚀 v7.0-72-g064365d Python-3.9.15 torch-1.11.0+cu113 CUDA:0 (Tesla V100-PCIE-32GB, 32501MiB)\n",
      "\n",
      "\u001b[34m\u001b[1mhyperparameters: \u001b[0mlr0=0.01, lrf=0.01, momentum=0.937, weight_decay=0.0005, warmup_epochs=3.0, warmup_momentum=0.8, warmup_bias_lr=0.1, box=0.05, cls=0.5, cls_pw=1.0, obj=1.0, obj_pw=1.0, iou_t=0.2, anchor_t=4.0, fl_gamma=0.0, hsv_h=0.015, hsv_s=0.7, hsv_v=0.4, degrees=0.0, translate=0.1, scale=0.5, shear=0.0, perspective=0.0, flipud=0.0, fliplr=0.5, mosaic=1.0, mixup=0.0, copy_paste=0.0\n",
      "\u001b[34m\u001b[1mClearML: \u001b[0mrun 'pip install clearml' to automatically track, visualize and remotely train YOLOv5 🚀 in ClearML\n",
      "\u001b[34m\u001b[1mComet: \u001b[0mrun 'pip install comet_ml' to automatically track and visualize YOLOv5 🚀 runs in Comet\n",
      "\u001b[34m\u001b[1mTensorBoard: \u001b[0mStart with 'tensorboard --logdir runs/train', view at http://localhost:6006/\n",
      "2023-04-06 16:29:57.232168: I tensorflow/core/platform/cpu_feature_guard.cc:193] This TensorFlow binary is optimized with oneAPI Deep Neural Network Library (oneDNN) to use the following CPU instructions in performance-critical operations:  AVX2 AVX512F AVX512_VNNI FMA\n",
      "To enable them in other operations, rebuild TensorFlow with the appropriate compiler flags.\n",
      "2023-04-06 16:29:57.423648: I tensorflow/core/util/port.cc:104] oneDNN custom operations are on. You may see slightly different numerical results due to floating-point round-off errors from different computation orders. To turn them off, set the environment variable `TF_ENABLE_ONEDNN_OPTS=0`.\n",
      "2023-04-06 16:29:58.124189: W tensorflow/compiler/xla/stream_executor/platform/default/dso_loader.cc:64] Could not load dynamic library 'libnvinfer.so.7'; dlerror: libnvinfer.so.7: cannot open shared object file: No such file or directory; LD_LIBRARY_PATH: /home/aimlgpu2/miniconda3/envs/tf/lib/python3.9/site-packages/cv2/../../lib64::/home/aimlgpu2/miniconda3/envs/tf/lib/\n",
      "2023-04-06 16:29:58.124292: W tensorflow/compiler/xla/stream_executor/platform/default/dso_loader.cc:64] Could not load dynamic library 'libnvinfer_plugin.so.7'; dlerror: libnvinfer_plugin.so.7: cannot open shared object file: No such file or directory; LD_LIBRARY_PATH: /home/aimlgpu2/miniconda3/envs/tf/lib/python3.9/site-packages/cv2/../../lib64::/home/aimlgpu2/miniconda3/envs/tf/lib/\n",
      "2023-04-06 16:29:58.124303: W tensorflow/compiler/tf2tensorrt/utils/py_utils.cc:38] TF-TRT Warning: Cannot dlopen some TensorRT libraries. If you would like to use Nvidia GPU with TensorRT, please make sure the missing libraries mentioned above are installed properly.\n"
     ]
    },
    {
     "name": "stdout",
     "output_type": "stream",
     "text": [
      "Downloading https://github.com/ultralytics/yolov5/releases/download/v7.0/yolov5m.pt to yolov5m.pt...\n",
      "100%|██████████████████████████████████████| 40.8M/40.8M [00:03<00:00, 10.8MB/s]\n",
      "\n",
      "Overriding model.yaml nc=80 with nc=7\n",
      "\n",
      "                 from  n    params  module                                  arguments                     \n",
      "  0                -1  1      5280  models.common.Conv                      [3, 48, 6, 2, 2]              \n",
      "  1                -1  1     41664  models.common.Conv                      [48, 96, 3, 2]                \n",
      "  2                -1  2     65280  models.common.C3                        [96, 96, 2]                   \n",
      "  3                -1  1    166272  models.common.Conv                      [96, 192, 3, 2]               \n",
      "  4                -1  4    444672  models.common.C3                        [192, 192, 4]                 \n",
      "  5                -1  1    664320  models.common.Conv                      [192, 384, 3, 2]              \n",
      "  6                -1  6   2512896  models.common.C3                        [384, 384, 6]                 \n",
      "  7                -1  1   2655744  models.common.Conv                      [384, 768, 3, 2]              \n",
      "  8                -1  2   4134912  models.common.C3                        [768, 768, 2]                 \n",
      "  9                -1  1   1476864  models.common.SPPF                      [768, 768, 5]                 \n",
      " 10                -1  1    295680  models.common.Conv                      [768, 384, 1, 1]              \n",
      " 11                -1  1         0  torch.nn.modules.upsampling.Upsample    [None, 2, 'nearest']          \n",
      " 12           [-1, 6]  1         0  models.common.Concat                    [1]                           \n",
      " 13                -1  2   1182720  models.common.C3                        [768, 384, 2, False]          \n",
      " 14                -1  1     74112  models.common.Conv                      [384, 192, 1, 1]              \n",
      " 15                -1  1         0  torch.nn.modules.upsampling.Upsample    [None, 2, 'nearest']          \n",
      " 16           [-1, 4]  1         0  models.common.Concat                    [1]                           \n",
      " 17                -1  2    296448  models.common.C3                        [384, 192, 2, False]          \n",
      " 18                -1  1    332160  models.common.Conv                      [192, 192, 3, 2]              \n",
      " 19          [-1, 14]  1         0  models.common.Concat                    [1]                           \n",
      " 20                -1  2   1035264  models.common.C3                        [384, 384, 2, False]          \n",
      " 21                -1  1   1327872  models.common.Conv                      [384, 384, 3, 2]              \n",
      " 22          [-1, 10]  1         0  models.common.Concat                    [1]                           \n",
      " 23                -1  2   4134912  models.common.C3                        [768, 768, 2, False]          \n",
      " 24      [17, 20, 23]  1     48492  models.yolo.Detect                      [7, [[10, 13, 16, 30, 33, 23], [30, 61, 62, 45, 59, 119], [116, 90, 156, 198, 373, 326]], [192, 384, 768]]\n",
      "Model summary: 291 layers, 20895564 parameters, 20895564 gradients, 48.3 GFLOPs\n",
      "\n",
      "Transferred 475/481 items from yolov5m.pt\n",
      "\u001b[34m\u001b[1mAMP: \u001b[0mchecks passed ✅\n",
      "\u001b[34m\u001b[1moptimizer:\u001b[0m SGD(lr=0.01) with parameter groups 79 weight(decay=0.0), 82 weight(decay=0.0005), 82 bias\n",
      "\u001b[34m\u001b[1mtrain: \u001b[0mScanning /home/aimlgpu2/Amol/yolov5_ws/yolov5/data/Images/training.cache.\u001b[0m\n",
      "\u001b[34m\u001b[1mtrain: \u001b[0mWARNING ⚠️ /home/aimlgpu2/Amol/yolov5_ws/yolov5/data/Images/training/IMG-20221221-WA0006.jpg: ignoring corrupt image/label: could not convert string to float: 'undefined'\n",
      "\u001b[34m\u001b[1mval: \u001b[0mScanning /home/aimlgpu2/Amol/yolov5_ws/yolov5/data/Images/validation.cache.\u001b[0m\n",
      "\n",
      "\u001b[34m\u001b[1mAutoAnchor: \u001b[0m5.84 anchors/target, 1.000 Best Possible Recall (BPR). Current anchors are a good fit to dataset ✅\n",
      "Plotting labels to runs/train/exp27/labels.jpg... \n",
      "Image sizes 640 train, 640 val\n",
      "Using 8 dataloader workers\n",
      "Logging results to \u001b[1mruns/train/exp27\u001b[0m\n",
      "Starting training for 500 epochs...\n",
      "\n",
      "      Epoch    GPU_mem   box_loss   obj_loss   cls_loss  Instances       Size\n",
      "      0/499      6.68G     0.1079    0.03554    0.05651         32        640: 1\n",
      "                 Class     Images  Instances          P          R      mAP50   \n",
      "                   all         51        113   0.000921      0.124    0.00155   0.000305\n",
      "\n",
      "      Epoch    GPU_mem   box_loss   obj_loss   cls_loss  Instances       Size\n",
      "      1/499       7.9G    0.09271    0.03556    0.04365         43        640: 1\n",
      "                 Class     Images  Instances          P          R      mAP50   \n",
      "                   all         51        113    0.00261      0.263    0.00514    0.00118\n",
      "\n",
      "      Epoch    GPU_mem   box_loss   obj_loss   cls_loss  Instances       Size\n",
      "      2/499       7.9G    0.08908    0.03384    0.03196         34        640: 1\n",
      "                 Class     Images  Instances          P          R      mAP50   \n",
      "                   all         51        113      0.693     0.0229     0.0273    0.00972\n",
      "\n",
      "      Epoch    GPU_mem   box_loss   obj_loss   cls_loss  Instances       Size\n",
      "      3/499       7.9G    0.08638    0.03296    0.02569         34        640: 1\n",
      "                 Class     Images  Instances          P          R      mAP50   \n",
      "                   all         51        113      0.569      0.062     0.0253      0.005\n",
      "\n",
      "      Epoch    GPU_mem   box_loss   obj_loss   cls_loss  Instances       Size\n",
      "      4/499       7.9G    0.08099    0.03121    0.02289         26        640: 1\n",
      "                 Class     Images  Instances          P          R      mAP50   \n",
      "                   all         51        113       0.71      0.103     0.0411     0.0104\n",
      "\n",
      "      Epoch    GPU_mem   box_loss   obj_loss   cls_loss  Instances       Size\n",
      "      5/499       7.9G    0.07682    0.02967    0.02013         45        640: 1\n",
      "                 Class     Images  Instances          P          R      mAP50   \n",
      "                   all         51        113      0.238      0.228     0.0459     0.0102\n",
      "\n",
      "      Epoch    GPU_mem   box_loss   obj_loss   cls_loss  Instances       Size\n",
      "      6/499       7.9G    0.07233    0.02866    0.01781         25        640: 1\n",
      "                 Class     Images  Instances          P          R      mAP50   \n",
      "                   all         51        113      0.552      0.145      0.127     0.0306\n",
      "\n",
      "      Epoch    GPU_mem   box_loss   obj_loss   cls_loss  Instances       Size\n",
      "      7/499       7.9G    0.06923    0.02732    0.01735         44        640: 1\n",
      "                 Class     Images  Instances          P          R      mAP50   \n",
      "                   all         51        113      0.298      0.239      0.147     0.0391\n",
      "\n",
      "      Epoch    GPU_mem   box_loss   obj_loss   cls_loss  Instances       Size\n",
      "      8/499       7.9G     0.0662     0.0294    0.01488         33        640: 1\n",
      "                 Class     Images  Instances          P          R      mAP50   \n",
      "                   all         51        113      0.305      0.306      0.188     0.0513\n",
      "\n",
      "      Epoch    GPU_mem   box_loss   obj_loss   cls_loss  Instances       Size\n",
      "      9/499       7.9G    0.06451    0.02822    0.01236         23        640: 1\n",
      "                 Class     Images  Instances          P          R      mAP50   \n",
      "                   all         51        113      0.384      0.207      0.163     0.0604\n",
      "\n",
      "      Epoch    GPU_mem   box_loss   obj_loss   cls_loss  Instances       Size\n",
      "     10/499       7.9G    0.06524    0.02657    0.01144         39        640: 1\n",
      "                 Class     Images  Instances          P          R      mAP50   \n",
      "                   all         51        113      0.403      0.269      0.199     0.0617\n",
      "\n",
      "      Epoch    GPU_mem   box_loss   obj_loss   cls_loss  Instances       Size\n",
      "     11/499       7.9G    0.06229    0.02647      0.012         32        640: 1\n",
      "                 Class     Images  Instances          P          R      mAP50   \n",
      "                   all         51        113      0.525       0.27      0.245     0.0706\n",
      "\n",
      "      Epoch    GPU_mem   box_loss   obj_loss   cls_loss  Instances       Size\n",
      "     12/499       7.9G    0.05978    0.02659   0.009582         41        640: 1\n"
     ]
    },
    {
     "name": "stdout",
     "output_type": "stream",
     "text": [
      "                 Class     Images  Instances          P          R      mAP50   \n",
      "                   all         51        113      0.344       0.32      0.205     0.0677\n",
      "\n",
      "      Epoch    GPU_mem   box_loss   obj_loss   cls_loss  Instances       Size\n",
      "     13/499       7.9G    0.05978    0.02684   0.008497         45        640: 1\n",
      "                 Class     Images  Instances          P          R      mAP50   \n",
      "                   all         51        113      0.385      0.323      0.229     0.0699\n",
      "\n",
      "      Epoch    GPU_mem   box_loss   obj_loss   cls_loss  Instances       Size\n",
      "     14/499       7.9G    0.06008    0.02606   0.007848         38        640: 1\n",
      "                 Class     Images  Instances          P          R      mAP50   \n",
      "                   all         51        113      0.427      0.237      0.189     0.0547\n",
      "\n",
      "      Epoch    GPU_mem   box_loss   obj_loss   cls_loss  Instances       Size\n",
      "     15/499       7.9G    0.05893    0.02463   0.006747         54        640: 1\n",
      "                 Class     Images  Instances          P          R      mAP50   \n",
      "                   all         51        113      0.316      0.107      0.125     0.0585\n",
      "\n",
      "      Epoch    GPU_mem   box_loss   obj_loss   cls_loss  Instances       Size\n",
      "     16/499       7.9G    0.05701    0.02517   0.005255         34        640: 1\n",
      "                 Class     Images  Instances          P          R      mAP50   \n",
      "                   all         51        113      0.408      0.303      0.212     0.0634\n",
      "\n",
      "      Epoch    GPU_mem   box_loss   obj_loss   cls_loss  Instances       Size\n",
      "     17/499       7.9G    0.05616    0.02525   0.006103         31        640: 1\n",
      "                 Class     Images  Instances          P          R      mAP50   \n",
      "                   all         51        113      0.133      0.159      0.103      0.034\n",
      "\n",
      "      Epoch    GPU_mem   box_loss   obj_loss   cls_loss  Instances       Size\n",
      "     18/499       7.9G     0.0559    0.02363   0.005518         48        640: 1\n",
      "                 Class     Images  Instances          P          R      mAP50   \n",
      "                   all         51        113      0.572      0.166      0.181     0.0413\n",
      "\n",
      "      Epoch    GPU_mem   box_loss   obj_loss   cls_loss  Instances       Size\n",
      "     19/499       7.9G    0.05369    0.02496   0.005488         41        640: 1\n",
      "                 Class     Images  Instances          P          R      mAP50   \n",
      "                   all         51        113      0.217       0.21      0.156      0.041\n",
      "\n",
      "      Epoch    GPU_mem   box_loss   obj_loss   cls_loss  Instances       Size\n",
      "     20/499       7.9G     0.0556    0.02379   0.005072         40        640: 1\n",
      "                 Class     Images  Instances          P          R      mAP50   \n",
      "                   all         51        113      0.593      0.242      0.306     0.0971\n",
      "\n",
      "      Epoch    GPU_mem   box_loss   obj_loss   cls_loss  Instances       Size\n",
      "     21/499       7.9G    0.05478    0.02409   0.004732         57        640: 1\n",
      "                 Class     Images  Instances          P          R      mAP50   \n",
      "                   all         51        113       0.45      0.304      0.206     0.0578\n",
      "\n",
      "      Epoch    GPU_mem   box_loss   obj_loss   cls_loss  Instances       Size\n",
      "     22/499       7.9G    0.05294    0.02414   0.004665         32        640: 1\n",
      "                 Class     Images  Instances          P          R      mAP50   \n",
      "                   all         51        113      0.326      0.316      0.272     0.0774\n",
      "\n",
      "      Epoch    GPU_mem   box_loss   obj_loss   cls_loss  Instances       Size\n",
      "     23/499       7.9G    0.05254    0.02248   0.004728         23        640: 1\n",
      "                 Class     Images  Instances          P          R      mAP50   \n",
      "                   all         51        113      0.351      0.385      0.319     0.0828\n",
      "\n",
      "      Epoch    GPU_mem   box_loss   obj_loss   cls_loss  Instances       Size\n",
      "     24/499       7.9G    0.05052     0.0247     0.0049         51        640: 1\n",
      "                 Class     Images  Instances          P          R      mAP50   \n",
      "                   all         51        113      0.335      0.335      0.286     0.0792\n",
      "\n",
      "      Epoch    GPU_mem   box_loss   obj_loss   cls_loss  Instances       Size\n",
      "     25/499       7.9G    0.04983    0.02247   0.004426         38        640: 1\n",
      "                 Class     Images  Instances          P          R      mAP50   \n",
      "                   all         51        113      0.214      0.291      0.221     0.0722\n",
      "\n",
      "      Epoch    GPU_mem   box_loss   obj_loss   cls_loss  Instances       Size\n",
      "     26/499       7.9G    0.05087    0.02258   0.004015         58        640: 1\n",
      "                 Class     Images  Instances          P          R      mAP50   \n",
      "                   all         51        113      0.266      0.287        0.2      0.068\n",
      "\n",
      "      Epoch    GPU_mem   box_loss   obj_loss   cls_loss  Instances       Size\n",
      "     27/499       7.9G    0.05141    0.02302   0.003526         39        640: 1\n",
      "                 Class     Images  Instances          P          R      mAP50   \n",
      "                   all         51        113      0.573      0.264      0.266      0.087\n",
      "\n",
      "      Epoch    GPU_mem   box_loss   obj_loss   cls_loss  Instances       Size\n",
      "     28/499       7.9G    0.04812    0.02282   0.004211         31        640: 1\n",
      "                 Class     Images  Instances          P          R      mAP50   \n",
      "                   all         51        113      0.693       0.24       0.24     0.0842\n",
      "\n",
      "      Epoch    GPU_mem   box_loss   obj_loss   cls_loss  Instances       Size\n",
      "     29/499       7.9G    0.04829    0.02229   0.004232         32        640: 1\n",
      "                 Class     Images  Instances          P          R      mAP50   \n",
      "                   all         51        113      0.569      0.296      0.272     0.0908\n",
      "\n",
      "      Epoch    GPU_mem   box_loss   obj_loss   cls_loss  Instances       Size\n",
      "     30/499       7.9G    0.04801    0.02268   0.004382         32        640: 1\n",
      "                 Class     Images  Instances          P          R      mAP50   \n",
      "                   all         51        113      0.326      0.191      0.183     0.0545\n",
      "\n",
      "      Epoch    GPU_mem   box_loss   obj_loss   cls_loss  Instances       Size\n",
      "     31/499       7.9G    0.04783    0.02245    0.00396         26        640: 1\n",
      "                 Class     Images  Instances          P          R      mAP50   \n",
      "                   all         51        113      0.359      0.247      0.194     0.0716\n",
      "\n",
      "      Epoch    GPU_mem   box_loss   obj_loss   cls_loss  Instances       Size\n",
      "     32/499       7.9G    0.04687     0.0226   0.003209         30        640: 1\n",
      "                 Class     Images  Instances          P          R      mAP50   \n",
      "                   all         51        113      0.317      0.267      0.266     0.0834\n",
      "\n",
      "      Epoch    GPU_mem   box_loss   obj_loss   cls_loss  Instances       Size\n",
      "     33/499       7.9G    0.04699    0.02044   0.003095         35        640: 1\n",
      "                 Class     Images  Instances          P          R      mAP50   \n",
      "                   all         51        113      0.537      0.392      0.353      0.108\n",
      "\n",
      "      Epoch    GPU_mem   box_loss   obj_loss   cls_loss  Instances       Size\n",
      "     34/499       7.9G    0.04678    0.02092   0.003085         33        640: 1\n",
      "                 Class     Images  Instances          P          R      mAP50   \n",
      "                   all         51        113      0.699      0.199      0.291     0.0842\n",
      "\n",
      "      Epoch    GPU_mem   box_loss   obj_loss   cls_loss  Instances       Size\n",
      "     35/499       7.9G    0.04577    0.01977   0.003421         40        640: 1\n",
      "                 Class     Images  Instances          P          R      mAP50   \n",
      "                   all         51        113      0.595      0.313      0.307      0.103\n",
      "\n",
      "      Epoch    GPU_mem   box_loss   obj_loss   cls_loss  Instances       Size\n",
      "     36/499       7.9G    0.04598    0.01906   0.002848         27        640: 1\n",
      "                 Class     Images  Instances          P          R      mAP50   \n",
      "                   all         51        113      0.678      0.251      0.256     0.0753\n",
      "\n",
      "      Epoch    GPU_mem   box_loss   obj_loss   cls_loss  Instances       Size\n"
     ]
    },
    {
     "name": "stdout",
     "output_type": "stream",
     "text": [
      "     37/499       7.9G    0.04615    0.01896   0.003587         36        640: 1\n",
      "                 Class     Images  Instances          P          R      mAP50   \n",
      "                   all         51        113      0.573      0.323      0.302      0.105\n",
      "\n",
      "      Epoch    GPU_mem   box_loss   obj_loss   cls_loss  Instances       Size\n",
      "     38/499       7.9G    0.04527    0.02186   0.003584         22        640: 1\n",
      "                 Class     Images  Instances          P          R      mAP50   \n",
      "                   all         51        113      0.537      0.262      0.322     0.0984\n",
      "\n",
      "      Epoch    GPU_mem   box_loss   obj_loss   cls_loss  Instances       Size\n",
      "     39/499       7.9G    0.04421    0.02035   0.003352         38        640: 1\n",
      "                 Class     Images  Instances          P          R      mAP50   \n",
      "                   all         51        113      0.325      0.219      0.229     0.0855\n",
      "\n",
      "      Epoch    GPU_mem   box_loss   obj_loss   cls_loss  Instances       Size\n",
      "     40/499       7.9G    0.04512    0.02012   0.003146         47        640: 1\n",
      "                 Class     Images  Instances          P          R      mAP50   \n",
      "                   all         51        113      0.554      0.313      0.324      0.105\n",
      "\n",
      "      Epoch    GPU_mem   box_loss   obj_loss   cls_loss  Instances       Size\n",
      "     41/499       7.9G     0.0427    0.02044   0.002938         55        640: 1\n",
      "                 Class     Images  Instances          P          R      mAP50   \n",
      "                   all         51        113      0.464      0.321      0.301      0.107\n",
      "\n",
      "      Epoch    GPU_mem   box_loss   obj_loss   cls_loss  Instances       Size\n",
      "     42/499       7.9G    0.04344     0.0201   0.002984         32        640: 1\n",
      "                 Class     Images  Instances          P          R      mAP50   \n",
      "                   all         51        113      0.435      0.234      0.274      0.107\n",
      "\n",
      "      Epoch    GPU_mem   box_loss   obj_loss   cls_loss  Instances       Size\n",
      "     43/499       7.9G    0.04189    0.01956   0.003043         38        640: 1\n",
      "                 Class     Images  Instances          P          R      mAP50   \n",
      "                   all         51        113      0.338      0.316      0.265      0.103\n",
      "\n",
      "      Epoch    GPU_mem   box_loss   obj_loss   cls_loss  Instances       Size\n",
      "     44/499       7.9G    0.04251      0.019   0.002669         39        640: 1\n",
      "                 Class     Images  Instances          P          R      mAP50   \n",
      "                   all         51        113      0.411      0.331      0.302      0.112\n",
      "\n",
      "      Epoch    GPU_mem   box_loss   obj_loss   cls_loss  Instances       Size\n",
      "     45/499       7.9G    0.04192    0.01918    0.00264         49        640: 1\n",
      "                 Class     Images  Instances          P          R      mAP50   \n",
      "                   all         51        113      0.322      0.309       0.26      0.108\n",
      "\n",
      "      Epoch    GPU_mem   box_loss   obj_loss   cls_loss  Instances       Size\n",
      "     46/499       7.9G    0.04259    0.01887   0.003504         41        640: 1\n",
      "                 Class     Images  Instances          P          R      mAP50   \n",
      "                   all         51        113       0.39      0.266      0.251      0.091\n",
      "\n",
      "      Epoch    GPU_mem   box_loss   obj_loss   cls_loss  Instances       Size\n",
      "     47/499       7.9G    0.04166    0.01976    0.00274         45        640: 1\n",
      "                 Class     Images  Instances          P          R      mAP50   \n",
      "                   all         51        113      0.465      0.292      0.261     0.0885\n",
      "\n",
      "      Epoch    GPU_mem   box_loss   obj_loss   cls_loss  Instances       Size\n",
      "     48/499       7.9G    0.04117    0.01923   0.002757         57        640: 1\n",
      "                 Class     Images  Instances          P          R      mAP50   \n",
      "                   all         51        113      0.358      0.339      0.264     0.0915\n",
      "\n",
      "      Epoch    GPU_mem   box_loss   obj_loss   cls_loss  Instances       Size\n",
      "     49/499       7.9G    0.04085    0.01942    0.00237         49        640: 1\n",
      "                 Class     Images  Instances          P          R      mAP50   \n",
      "                   all         51        113       0.69      0.224      0.261     0.0995\n",
      "\n",
      "      Epoch    GPU_mem   box_loss   obj_loss   cls_loss  Instances       Size\n",
      "     50/499       7.9G    0.04024    0.01994   0.002573         53        640: 1\n",
      "                 Class     Images  Instances          P          R      mAP50   \n",
      "                   all         51        113      0.477      0.272      0.262     0.0901\n",
      "\n",
      "      Epoch    GPU_mem   box_loss   obj_loss   cls_loss  Instances       Size\n",
      "     51/499       7.9G    0.04071    0.01791   0.002674         19        640: 1\n",
      "                 Class     Images  Instances          P          R      mAP50   \n",
      "                   all         51        113      0.397      0.346        0.3      0.127\n",
      "\n",
      "      Epoch    GPU_mem   box_loss   obj_loss   cls_loss  Instances       Size\n",
      "     52/499       7.9G    0.04006    0.01836   0.002436         42        640: 1\n",
      "                 Class     Images  Instances          P          R      mAP50   \n",
      "                   all         51        113      0.647      0.274       0.31      0.102\n",
      "\n",
      "      Epoch    GPU_mem   box_loss   obj_loss   cls_loss  Instances       Size\n",
      "     53/499       7.9G    0.04094    0.01761   0.002452         35        640: 1\n",
      "                 Class     Images  Instances          P          R      mAP50   \n",
      "                   all         51        113      0.368      0.301       0.28      0.102\n",
      "\n",
      "      Epoch    GPU_mem   box_loss   obj_loss   cls_loss  Instances       Size\n",
      "     54/499       7.9G    0.04023      0.019   0.002501         35        640: 1\n",
      "                 Class     Images  Instances          P          R      mAP50   \n",
      "                   all         51        113      0.429        0.3      0.278     0.0859\n",
      "\n",
      "      Epoch    GPU_mem   box_loss   obj_loss   cls_loss  Instances       Size\n",
      "     55/499       7.9G    0.03903    0.01784   0.002282         28        640: 1\n",
      "                 Class     Images  Instances          P          R      mAP50   \n",
      "                   all         51        113      0.669      0.233      0.308      0.105\n",
      "\n",
      "      Epoch    GPU_mem   box_loss   obj_loss   cls_loss  Instances       Size\n",
      "     56/499       7.9G    0.03793    0.01789   0.002207         42        640: 1\n",
      "                 Class     Images  Instances          P          R      mAP50   \n",
      "                   all         51        113      0.475      0.234      0.264      0.114\n",
      "\n",
      "      Epoch    GPU_mem   box_loss   obj_loss   cls_loss  Instances       Size\n",
      "     57/499       7.9G    0.03866    0.01773   0.002187         50        640: 1\n",
      "                 Class     Images  Instances          P          R      mAP50   \n",
      "                   all         51        113      0.388       0.31      0.282       0.11\n",
      "\n",
      "      Epoch    GPU_mem   box_loss   obj_loss   cls_loss  Instances       Size\n",
      "     58/499       7.9G    0.03838    0.01722   0.002108         34        640: 1\n",
      "                 Class     Images  Instances          P          R      mAP50   \n",
      "                   all         51        113      0.241      0.266      0.243      0.093\n",
      "\n",
      "      Epoch    GPU_mem   box_loss   obj_loss   cls_loss  Instances       Size\n",
      "     59/499       7.9G    0.03823    0.01743   0.002207         32        640: 1\n",
      "                 Class     Images  Instances          P          R      mAP50   \n",
      "                   all         51        113      0.491       0.25      0.282      0.107\n",
      "\n",
      "      Epoch    GPU_mem   box_loss   obj_loss   cls_loss  Instances       Size\n",
      "     60/499       7.9G    0.03809    0.01813   0.002196         43        640: 1\n",
      "                 Class     Images  Instances          P          R      mAP50   \n",
      "                   all         51        113      0.444      0.262      0.278      0.111\n",
      "\n",
      "      Epoch    GPU_mem   box_loss   obj_loss   cls_loss  Instances       Size\n",
      "     61/499       7.9G     0.0372     0.0181   0.001659         50        640: 1\n",
      "                 Class     Images  Instances          P          R      mAP50   \n",
      "                   all         51        113      0.308      0.289       0.24      0.101\n",
      "\n",
      "      Epoch    GPU_mem   box_loss   obj_loss   cls_loss  Instances       Size\n"
     ]
    },
    {
     "name": "stdout",
     "output_type": "stream",
     "text": [
      "     62/499       7.9G    0.03665     0.0159   0.002225         37        640: 1\n",
      "                 Class     Images  Instances          P          R      mAP50   \n",
      "                   all         51        113      0.547      0.223      0.248      0.104\n",
      "\n",
      "      Epoch    GPU_mem   box_loss   obj_loss   cls_loss  Instances       Size\n",
      "     63/499       7.9G    0.03665    0.01705   0.002013         28        640: 1\n",
      "                 Class     Images  Instances          P          R      mAP50   \n",
      "                   all         51        113        0.7      0.263      0.282      0.109\n",
      "\n",
      "      Epoch    GPU_mem   box_loss   obj_loss   cls_loss  Instances       Size\n",
      "     64/499       7.9G    0.03767    0.01764   0.001823         33        640: 1\n",
      "                 Class     Images  Instances          P          R      mAP50   \n",
      "                   all         51        113      0.616      0.287      0.303      0.132\n",
      "\n",
      "      Epoch    GPU_mem   box_loss   obj_loss   cls_loss  Instances       Size\n",
      "     65/499       7.9G     0.0368    0.01714   0.001984         37        640: 1\n",
      "                 Class     Images  Instances          P          R      mAP50   \n",
      "                   all         51        113       0.34      0.248      0.226       0.09\n",
      "\n",
      "      Epoch    GPU_mem   box_loss   obj_loss   cls_loss  Instances       Size\n",
      "     66/499       7.9G    0.03768    0.01624   0.002288         32        640: 1\n",
      "                 Class     Images  Instances          P          R      mAP50   \n",
      "                   all         51        113      0.533      0.242      0.225     0.0838\n",
      "\n",
      "      Epoch    GPU_mem   box_loss   obj_loss   cls_loss  Instances       Size\n",
      "     67/499       7.9G    0.03655    0.01666   0.002196         45        640: 1\n",
      "                 Class     Images  Instances          P          R      mAP50   \n",
      "                   all         51        113      0.558      0.225      0.233     0.0751\n",
      "\n",
      "      Epoch    GPU_mem   box_loss   obj_loss   cls_loss  Instances       Size\n",
      "     68/499       7.9G    0.03535    0.01755   0.002278         21        640: 1\n",
      "                 Class     Images  Instances          P          R      mAP50   \n",
      "                   all         51        113      0.477      0.344      0.268     0.0793\n",
      "\n",
      "      Epoch    GPU_mem   box_loss   obj_loss   cls_loss  Instances       Size\n",
      "     69/499       7.9G     0.0366    0.01766   0.001924         64        640: 1\n",
      "                 Class     Images  Instances          P          R      mAP50   \n",
      "                   all         51        113      0.564      0.247      0.246     0.0858\n",
      "\n",
      "      Epoch    GPU_mem   box_loss   obj_loss   cls_loss  Instances       Size\n",
      "     70/499       7.9G     0.0354    0.01708   0.002277         40        640: 1\n",
      "                 Class     Images  Instances          P          R      mAP50   \n",
      "                   all         51        113      0.573      0.262      0.252     0.0941\n",
      "\n",
      "      Epoch    GPU_mem   box_loss   obj_loss   cls_loss  Instances       Size\n",
      "     71/499       7.9G    0.03617    0.01509   0.001886         40        640: 1\n",
      "                 Class     Images  Instances          P          R      mAP50   \n",
      "                   all         51        113      0.624      0.248      0.268      0.108\n",
      "\n",
      "      Epoch    GPU_mem   box_loss   obj_loss   cls_loss  Instances       Size\n",
      "     72/499       7.9G    0.03543    0.01643   0.001949         34        640: 1\n",
      "                 Class     Images  Instances          P          R      mAP50   \n",
      "                   all         51        113      0.484      0.316        0.3       0.11\n",
      "\n",
      "      Epoch    GPU_mem   box_loss   obj_loss   cls_loss  Instances       Size\n",
      "     73/499       7.9G    0.03463    0.01687   0.002334         50        640: 1\n",
      "                 Class     Images  Instances          P          R      mAP50   \n",
      "                   all         51        113      0.446      0.251      0.262     0.0888\n",
      "\n",
      "      Epoch    GPU_mem   box_loss   obj_loss   cls_loss  Instances       Size\n",
      "     74/499       7.9G    0.03543    0.01601   0.002678         46        640: 1\n",
      "                 Class     Images  Instances          P          R      mAP50   \n",
      "                   all         51        113      0.357      0.312      0.267      0.102\n",
      "\n",
      "      Epoch    GPU_mem   box_loss   obj_loss   cls_loss  Instances       Size\n",
      "     75/499       7.9G    0.03518    0.01675   0.002366         37        640: 1\n",
      "                 Class     Images  Instances          P          R      mAP50   \n",
      "                   all         51        113      0.401      0.295      0.284      0.105\n",
      "\n",
      "      Epoch    GPU_mem   box_loss   obj_loss   cls_loss  Instances       Size\n",
      "     76/499       7.9G    0.03471    0.01685    0.00216         35        640: 1\n",
      "                 Class     Images  Instances          P          R      mAP50   \n",
      "                   all         51        113      0.501      0.213      0.227     0.0871\n",
      "\n",
      "      Epoch    GPU_mem   box_loss   obj_loss   cls_loss  Instances       Size\n",
      "     77/499       7.9G    0.03507    0.01701    0.00173         35        640: 1\n",
      "                 Class     Images  Instances          P          R      mAP50   \n",
      "                   all         51        113      0.557      0.213      0.199     0.0779\n",
      "\n",
      "      Epoch    GPU_mem   box_loss   obj_loss   cls_loss  Instances       Size\n",
      "     78/499       7.9G    0.03352    0.01639   0.001889         40        640: 1\n",
      "                 Class     Images  Instances          P          R      mAP50   \n",
      "                   all         51        113      0.502      0.282      0.235     0.0991\n",
      "\n",
      "      Epoch    GPU_mem   box_loss   obj_loss   cls_loss  Instances       Size\n",
      "     79/499       7.9G    0.03459    0.01567   0.002014         34        640: 1\n",
      "                 Class     Images  Instances          P          R      mAP50   \n",
      "                   all         51        113      0.433      0.227      0.228     0.0975\n",
      "\n",
      "      Epoch    GPU_mem   box_loss   obj_loss   cls_loss  Instances       Size\n",
      "     80/499       7.9G    0.03413     0.0157   0.001585         27        640: 1\n",
      "                 Class     Images  Instances          P          R      mAP50   \n",
      "                   all         51        113      0.343      0.301       0.24     0.0991\n",
      "\n",
      "      Epoch    GPU_mem   box_loss   obj_loss   cls_loss  Instances       Size\n",
      "     81/499       7.9G    0.03334    0.01518    0.00188         33        640: 1\n",
      "                 Class     Images  Instances          P          R      mAP50   \n",
      "                   all         51        113      0.483      0.164      0.199     0.0736\n",
      "\n",
      "      Epoch    GPU_mem   box_loss   obj_loss   cls_loss  Instances       Size\n",
      "     82/499       7.9G    0.03219    0.01554    0.00205         65        640: 1\n",
      "                 Class     Images  Instances          P          R      mAP50   \n",
      "                   all         51        113      0.439      0.198      0.222     0.0857\n",
      "\n",
      "      Epoch    GPU_mem   box_loss   obj_loss   cls_loss  Instances       Size\n",
      "     83/499       7.9G    0.03294    0.01534   0.001765         30        640: 1\n",
      "                 Class     Images  Instances          P          R      mAP50   \n",
      "                   all         51        113      0.406      0.257      0.268      0.106\n",
      "\n",
      "      Epoch    GPU_mem   box_loss   obj_loss   cls_loss  Instances       Size\n",
      "     84/499       7.9G    0.03258    0.01604   0.001975         41        640: 1\n",
      "                 Class     Images  Instances          P          R      mAP50   \n",
      "                   all         51        113      0.653      0.208      0.223     0.0994\n",
      "\n",
      "      Epoch    GPU_mem   box_loss   obj_loss   cls_loss  Instances       Size\n",
      "     85/499       7.9G    0.03246    0.01603   0.002003         51        640: 1\n",
      "                 Class     Images  Instances          P          R      mAP50   \n",
      "                   all         51        113       0.41      0.242      0.239     0.0955\n",
      "\n",
      "      Epoch    GPU_mem   box_loss   obj_loss   cls_loss  Instances       Size\n",
      "     86/499       7.9G    0.03269    0.01592   0.001933         24        640: 1\n",
      "                 Class     Images  Instances          P          R      mAP50   \n",
      "                   all         51        113       0.34      0.261      0.244     0.0893\n",
      "\n",
      "      Epoch    GPU_mem   box_loss   obj_loss   cls_loss  Instances       Size\n"
     ]
    },
    {
     "name": "stdout",
     "output_type": "stream",
     "text": [
      "     87/499       7.9G    0.03376    0.01582   0.001889         35        640: 1\n",
      "                 Class     Images  Instances          P          R      mAP50   \n",
      "                   all         51        113      0.637      0.269      0.266      0.118\n",
      "\n",
      "      Epoch    GPU_mem   box_loss   obj_loss   cls_loss  Instances       Size\n",
      "     88/499       7.9G    0.03289     0.0158   0.001465         29        640: 1\n",
      "                 Class     Images  Instances          P          R      mAP50   \n",
      "                   all         51        113      0.322      0.236      0.212      0.098\n",
      "\n",
      "      Epoch    GPU_mem   box_loss   obj_loss   cls_loss  Instances       Size\n",
      "     89/499       7.9G    0.03242    0.01538   0.001598         28        640: 1\n",
      "                 Class     Images  Instances          P          R      mAP50   \n",
      "                   all         51        113      0.371      0.238       0.24      0.105\n",
      "\n",
      "      Epoch    GPU_mem   box_loss   obj_loss   cls_loss  Instances       Size\n",
      "     90/499       7.9G    0.03267    0.01549   0.001723         42        640: 1\n",
      "                 Class     Images  Instances          P          R      mAP50   \n",
      "                   all         51        113      0.439      0.223      0.227     0.0958\n",
      "\n",
      "      Epoch    GPU_mem   box_loss   obj_loss   cls_loss  Instances       Size\n",
      "     91/499       7.9G     0.0331    0.01626   0.001644         31        640: 1\n",
      "                 Class     Images  Instances          P          R      mAP50   \n",
      "                   all         51        113      0.484      0.252      0.225        0.1\n",
      "\n",
      "      Epoch    GPU_mem   box_loss   obj_loss   cls_loss  Instances       Size\n",
      "     92/499       7.9G    0.03238    0.01523     0.0015         38        640: 1\n",
      "                 Class     Images  Instances          P          R      mAP50   \n",
      "                   all         51        113      0.598      0.235      0.238     0.0946\n",
      "\n",
      "      Epoch    GPU_mem   box_loss   obj_loss   cls_loss  Instances       Size\n",
      "     93/499       7.9G    0.03297    0.01437   0.001843         34        640: 1\n",
      "                 Class     Images  Instances          P          R      mAP50   \n",
      "                   all         51        113      0.446      0.201      0.223     0.0955\n",
      "\n",
      "      Epoch    GPU_mem   box_loss   obj_loss   cls_loss  Instances       Size\n",
      "     94/499       7.9G    0.03199    0.01569    0.00158         38        640: 1\n",
      "                 Class     Images  Instances          P          R      mAP50   \n",
      "                   all         51        113      0.489      0.238      0.258      0.119\n",
      "\n",
      "      Epoch    GPU_mem   box_loss   obj_loss   cls_loss  Instances       Size\n",
      "     95/499       7.9G    0.03157     0.0147   0.001499         26        640: 1\n",
      "                 Class     Images  Instances          P          R      mAP50   \n",
      "                   all         51        113       0.71       0.24      0.261      0.112\n",
      "\n",
      "      Epoch    GPU_mem   box_loss   obj_loss   cls_loss  Instances       Size\n",
      "     96/499       7.9G    0.03148    0.01528   0.001845         55        640: 1\n",
      "                 Class     Images  Instances          P          R      mAP50   \n",
      "                   all         51        113      0.569      0.225      0.241      0.112\n",
      "\n",
      "      Epoch    GPU_mem   box_loss   obj_loss   cls_loss  Instances       Size\n",
      "     97/499       7.9G     0.0327    0.01477   0.001631         32        640: 1\n",
      "                 Class     Images  Instances          P          R      mAP50   \n",
      "                   all         51        113      0.473      0.258      0.267      0.117\n",
      "\n",
      "      Epoch    GPU_mem   box_loss   obj_loss   cls_loss  Instances       Size\n",
      "     98/499       7.9G    0.03127     0.0151   0.001657         40        640: 1\n",
      "                 Class     Images  Instances          P          R      mAP50   \n",
      "                   all         51        113      0.392      0.299      0.292      0.117\n",
      "\n",
      "      Epoch    GPU_mem   box_loss   obj_loss   cls_loss  Instances       Size\n",
      "     99/499       7.9G    0.03072    0.01459   0.001571         35        640: 1\n",
      "                 Class     Images  Instances          P          R      mAP50   \n",
      "                   all         51        113      0.499      0.242      0.243      0.116\n",
      "\n",
      "      Epoch    GPU_mem   box_loss   obj_loss   cls_loss  Instances       Size\n",
      "    100/499       7.9G    0.03083    0.01457   0.001643         52        640: 1\n",
      "                 Class     Images  Instances          P          R      mAP50   \n",
      "                   all         51        113      0.345      0.285      0.247      0.113\n",
      "\n",
      "      Epoch    GPU_mem   box_loss   obj_loss   cls_loss  Instances       Size\n",
      "    101/499       7.9G    0.02988    0.01426   0.001483         61        640: 1\n",
      "                 Class     Images  Instances          P          R      mAP50   \n",
      "                   all         51        113      0.362      0.219      0.226       0.11\n",
      "\n",
      "      Epoch    GPU_mem   box_loss   obj_loss   cls_loss  Instances       Size\n",
      "    102/499       7.9G    0.03038    0.01449    0.00165         40        640: 1\n",
      "                 Class     Images  Instances          P          R      mAP50   \n",
      "                   all         51        113       0.61      0.206      0.235      0.106\n",
      "\n",
      "      Epoch    GPU_mem   box_loss   obj_loss   cls_loss  Instances       Size\n",
      "    103/499       7.9G    0.02961    0.01468   0.001432         42        640: 1\n",
      "                 Class     Images  Instances          P          R      mAP50   \n",
      "                   all         51        113      0.625      0.252      0.259      0.107\n",
      "\n",
      "      Epoch    GPU_mem   box_loss   obj_loss   cls_loss  Instances       Size\n",
      "    104/499       7.9G    0.03055    0.01473   0.001427         38        640: 1\n",
      "                 Class     Images  Instances          P          R      mAP50   \n",
      "                   all         51        113      0.474       0.23       0.23      0.104\n",
      "\n",
      "      Epoch    GPU_mem   box_loss   obj_loss   cls_loss  Instances       Size\n",
      "    105/499       7.9G    0.03035    0.01472   0.001328         35        640: 1\n",
      "                 Class     Images  Instances          P          R      mAP50   \n",
      "                   all         51        113      0.463      0.283      0.266      0.108\n",
      "\n",
      "      Epoch    GPU_mem   box_loss   obj_loss   cls_loss  Instances       Size\n",
      "    106/499       7.9G     0.0298    0.01443   0.001477         28        640: 1\n",
      "                 Class     Images  Instances          P          R      mAP50   \n",
      "                   all         51        113      0.434      0.291      0.228     0.0902\n",
      "\n",
      "      Epoch    GPU_mem   box_loss   obj_loss   cls_loss  Instances       Size\n",
      "    107/499       7.9G     0.0293    0.01435   0.001549         43        640: 1\n",
      "                 Class     Images  Instances          P          R      mAP50   \n",
      "                   all         51        113        0.6      0.189      0.178     0.0631\n",
      "\n",
      "      Epoch    GPU_mem   box_loss   obj_loss   cls_loss  Instances       Size\n",
      "    108/499       7.9G    0.03008    0.01422   0.001571         47        640: 1\n",
      "                 Class     Images  Instances          P          R      mAP50   \n",
      "                   all         51        113      0.553      0.249      0.253      0.104\n",
      "\n",
      "      Epoch    GPU_mem   box_loss   obj_loss   cls_loss  Instances       Size\n",
      "    109/499       7.9G       0.03    0.01454   0.001327         58        640: 1\n",
      "                 Class     Images  Instances          P          R      mAP50   \n",
      "                   all         51        113      0.294      0.245      0.233      0.092\n",
      "\n",
      "      Epoch    GPU_mem   box_loss   obj_loss   cls_loss  Instances       Size\n",
      "    110/499       7.9G    0.02971    0.01471   0.001402         47        640: 1\n",
      "                 Class     Images  Instances          P          R      mAP50   \n",
      "                   all         51        113      0.696      0.261      0.282      0.114\n",
      "\n",
      "      Epoch    GPU_mem   box_loss   obj_loss   cls_loss  Instances       Size\n",
      "    111/499       7.9G    0.02988    0.01369   0.001379         42        640: 1\n",
      "                 Class     Images  Instances          P          R      mAP50   \n",
      "                   all         51        113      0.606      0.274      0.255     0.0989\n",
      "\n",
      "      Epoch    GPU_mem   box_loss   obj_loss   cls_loss  Instances       Size\n"
     ]
    },
    {
     "name": "stdout",
     "output_type": "stream",
     "text": [
      "    112/499       7.9G     0.0302    0.01404   0.001579         45        640: 1\n",
      "                 Class     Images  Instances          P          R      mAP50   \n",
      "                   all         51        113      0.558      0.224       0.26      0.111\n",
      "\n",
      "      Epoch    GPU_mem   box_loss   obj_loss   cls_loss  Instances       Size\n",
      "    113/499       7.9G    0.02916    0.01379   0.001459         31        640: 1\n",
      "                 Class     Images  Instances          P          R      mAP50   \n",
      "                   all         51        113      0.377      0.244      0.268      0.115\n",
      "\n",
      "      Epoch    GPU_mem   box_loss   obj_loss   cls_loss  Instances       Size\n",
      "    114/499       7.9G    0.02886    0.01402    0.00153         34        640: 1\n",
      "                 Class     Images  Instances          P          R      mAP50   \n",
      "                   all         51        113      0.541      0.219       0.24      0.111\n",
      "\n",
      "      Epoch    GPU_mem   box_loss   obj_loss   cls_loss  Instances       Size\n",
      "    115/499       7.9G    0.02885    0.01384    0.00158         37        640: 1\n",
      "                 Class     Images  Instances          P          R      mAP50   \n",
      "                   all         51        113      0.662       0.25      0.284      0.115\n",
      "\n",
      "      Epoch    GPU_mem   box_loss   obj_loss   cls_loss  Instances       Size\n",
      "    116/499       7.9G    0.02934    0.01444   0.001344         42        640: 1\n",
      "                 Class     Images  Instances          P          R      mAP50   \n",
      "                   all         51        113      0.373      0.268      0.258      0.111\n",
      "\n",
      "      Epoch    GPU_mem   box_loss   obj_loss   cls_loss  Instances       Size\n",
      "    117/499       7.9G    0.02858    0.01291   0.001297         34        640: 1\n",
      "                 Class     Images  Instances          P          R      mAP50   \n",
      "                   all         51        113       0.38       0.29      0.259      0.115\n",
      "\n",
      "      Epoch    GPU_mem   box_loss   obj_loss   cls_loss  Instances       Size\n",
      "    118/499       7.9G    0.02786    0.01299   0.001382         19        640: 1\n",
      "                 Class     Images  Instances          P          R      mAP50   \n",
      "                   all         51        113      0.421       0.26      0.261      0.117\n",
      "\n",
      "      Epoch    GPU_mem   box_loss   obj_loss   cls_loss  Instances       Size\n",
      "    119/499       7.9G    0.02892    0.01372   0.001279         26        640: 1\n",
      "                 Class     Images  Instances          P          R      mAP50   \n",
      "                   all         51        113      0.466      0.262      0.279      0.113\n",
      "\n",
      "      Epoch    GPU_mem   box_loss   obj_loss   cls_loss  Instances       Size\n",
      "    120/499       7.9G    0.02824    0.01345   0.001436         31        640: 1\n",
      "                 Class     Images  Instances          P          R      mAP50   \n",
      "                   all         51        113      0.318      0.255      0.241      0.116\n",
      "\n",
      "      Epoch    GPU_mem   box_loss   obj_loss   cls_loss  Instances       Size\n",
      "    121/499       7.9G    0.02798    0.01354   0.001391         51        640: 1\n",
      "                 Class     Images  Instances          P          R      mAP50   \n",
      "                   all         51        113      0.479      0.275      0.283      0.126\n",
      "\n",
      "      Epoch    GPU_mem   box_loss   obj_loss   cls_loss  Instances       Size\n",
      "    122/499       7.9G    0.02784    0.01361   0.001453         29        640: 1\n",
      "                 Class     Images  Instances          P          R      mAP50   \n",
      "                   all         51        113      0.516      0.261      0.245       0.11\n",
      "\n",
      "      Epoch    GPU_mem   box_loss   obj_loss   cls_loss  Instances       Size\n",
      "    123/499       7.9G    0.02806    0.01347   0.001502         26        640: 1\n",
      "                 Class     Images  Instances          P          R      mAP50   \n",
      "                   all         51        113      0.535       0.21      0.229      0.109\n",
      "\n",
      "      Epoch    GPU_mem   box_loss   obj_loss   cls_loss  Instances       Size\n",
      "    124/499       7.9G    0.02833    0.01257   0.001422         25        640: 1\n",
      "                 Class     Images  Instances          P          R      mAP50   \n",
      "                   all         51        113      0.499      0.253      0.247       0.11\n",
      "\n",
      "      Epoch    GPU_mem   box_loss   obj_loss   cls_loss  Instances       Size\n",
      "    125/499       7.9G    0.02846    0.01317   0.001395         43        640: 1\n",
      "                 Class     Images  Instances          P          R      mAP50   \n",
      "                   all         51        113       0.44      0.281       0.26       0.13\n",
      "\n",
      "      Epoch    GPU_mem   box_loss   obj_loss   cls_loss  Instances       Size\n",
      "    126/499       7.9G    0.02868    0.01427   0.001417         53        640: 1\n",
      "                 Class     Images  Instances          P          R      mAP50   \n",
      "                   all         51        113      0.397      0.253      0.238       0.12\n",
      "\n",
      "      Epoch    GPU_mem   box_loss   obj_loss   cls_loss  Instances       Size\n",
      "    127/499       7.9G    0.02732    0.01392   0.001277         48        640: 1\n",
      "                 Class     Images  Instances          P          R      mAP50   \n",
      "                   all         51        113      0.467      0.256       0.27       0.12\n",
      "\n",
      "      Epoch    GPU_mem   box_loss   obj_loss   cls_loss  Instances       Size\n",
      "    128/499       7.9G    0.02743    0.01369   0.001411         35        640: 1\n",
      "                 Class     Images  Instances          P          R      mAP50   \n",
      "                   all         51        113      0.591      0.235       0.23     0.0993\n",
      "\n",
      "      Epoch    GPU_mem   box_loss   obj_loss   cls_loss  Instances       Size\n",
      "    129/499       7.9G    0.02729    0.01292   0.001441         39        640: 1\n",
      "                 Class     Images  Instances          P          R      mAP50   \n",
      "                   all         51        113      0.671      0.273       0.29      0.121\n",
      "\n",
      "      Epoch    GPU_mem   box_loss   obj_loss   cls_loss  Instances       Size\n",
      "    130/499       7.9G    0.02867    0.01355   0.001375         38        640: 1\n",
      "                 Class     Images  Instances          P          R      mAP50   \n",
      "                   all         51        113      0.794      0.251      0.285      0.117\n",
      "\n",
      "      Epoch    GPU_mem   box_loss   obj_loss   cls_loss  Instances       Size\n",
      "    131/499       7.9G    0.02753    0.01281   0.001468         34        640: 1\n",
      "                 Class     Images  Instances          P          R      mAP50   \n",
      "                   all         51        113      0.592      0.238      0.266      0.109\n",
      "\n",
      "      Epoch    GPU_mem   box_loss   obj_loss   cls_loss  Instances       Size\n",
      "    132/499       7.9G    0.02657     0.0132   0.001457         32        640: 1\n",
      "                 Class     Images  Instances          P          R      mAP50   \n",
      "                   all         51        113      0.406      0.247      0.252      0.123\n",
      "\n",
      "      Epoch    GPU_mem   box_loss   obj_loss   cls_loss  Instances       Size\n",
      "    133/499       7.9G    0.02597    0.01286   0.001508         42        640: 1\n",
      "                 Class     Images  Instances          P          R      mAP50   \n",
      "                   all         51        113      0.484      0.239      0.289      0.117\n",
      "\n",
      "      Epoch    GPU_mem   box_loss   obj_loss   cls_loss  Instances       Size\n",
      "    134/499       7.9G    0.02746     0.0134   0.001276         30        640: 1\n",
      "                 Class     Images  Instances          P          R      mAP50   \n",
      "                   all         51        113      0.552      0.233      0.263      0.124\n",
      "\n",
      "      Epoch    GPU_mem   box_loss   obj_loss   cls_loss  Instances       Size\n",
      "    135/499       7.9G    0.02534    0.01288   0.001601         30        640: 1\n",
      "                 Class     Images  Instances          P          R      mAP50   \n",
      "                   all         51        113      0.524      0.254      0.285      0.126\n",
      "\n",
      "      Epoch    GPU_mem   box_loss   obj_loss   cls_loss  Instances       Size\n",
      "    136/499       7.9G    0.02689    0.01288   0.001149         24        640: 1\n",
      "                 Class     Images  Instances          P          R      mAP50   \n",
      "                   all         51        113      0.448      0.234      0.263      0.113\n",
      "\n",
      "      Epoch    GPU_mem   box_loss   obj_loss   cls_loss  Instances       Size\n"
     ]
    },
    {
     "name": "stdout",
     "output_type": "stream",
     "text": [
      "    137/499       7.9G    0.02695    0.01358   0.001572         46        640: 1\n",
      "                 Class     Images  Instances          P          R      mAP50   \n",
      "                   all         51        113      0.418      0.246      0.264      0.127\n",
      "\n",
      "      Epoch    GPU_mem   box_loss   obj_loss   cls_loss  Instances       Size\n",
      "    138/499       7.9G    0.02606    0.01305   0.001151         35        640: 1\n",
      "                 Class     Images  Instances          P          R      mAP50   \n",
      "                   all         51        113      0.492      0.246      0.279      0.121\n",
      "\n",
      "      Epoch    GPU_mem   box_loss   obj_loss   cls_loss  Instances       Size\n",
      "    139/499       7.9G     0.0262    0.01188   0.001138         42        640: 1\n",
      "                 Class     Images  Instances          P          R      mAP50   \n",
      "                   all         51        113      0.441      0.256      0.261      0.113\n",
      "\n",
      "      Epoch    GPU_mem   box_loss   obj_loss   cls_loss  Instances       Size\n",
      "    140/499       7.9G     0.0262    0.01301   0.001123         42        640: 1\n",
      "                 Class     Images  Instances          P          R      mAP50   \n",
      "                   all         51        113      0.368      0.274       0.25       0.11\n",
      "\n",
      "      Epoch    GPU_mem   box_loss   obj_loss   cls_loss  Instances       Size\n",
      "    141/499       7.9G     0.0261    0.01285    0.00132         30        640: 1\n",
      "                 Class     Images  Instances          P          R      mAP50   \n",
      "                   all         51        113      0.577      0.221      0.265      0.123\n",
      "\n",
      "      Epoch    GPU_mem   box_loss   obj_loss   cls_loss  Instances       Size\n",
      "    142/499       7.9G    0.02605    0.01276   0.001332         46        640: 1\n",
      "                 Class     Images  Instances          P          R      mAP50   \n",
      "                   all         51        113      0.463      0.261      0.272      0.114\n",
      "\n",
      "      Epoch    GPU_mem   box_loss   obj_loss   cls_loss  Instances       Size\n",
      "    143/499       7.9G    0.02587    0.01208   0.001194         37        640: 1\n",
      "                 Class     Images  Instances          P          R      mAP50   \n",
      "                   all         51        113      0.441      0.246      0.254       0.11\n",
      "\n",
      "      Epoch    GPU_mem   box_loss   obj_loss   cls_loss  Instances       Size\n",
      "    144/499       7.9G    0.02567    0.01277   0.001241         35        640: 1\n",
      "                 Class     Images  Instances          P          R      mAP50   \n",
      "                   all         51        113      0.465      0.231      0.251      0.105\n",
      "\n",
      "      Epoch    GPU_mem   box_loss   obj_loss   cls_loss  Instances       Size\n",
      "    145/499       7.9G    0.02544    0.01241   0.001203         41        640: 1\n",
      "                 Class     Images  Instances          P          R      mAP50   \n",
      "                   all         51        113      0.499      0.235      0.256       0.12\n",
      "\n",
      "      Epoch    GPU_mem   box_loss   obj_loss   cls_loss  Instances       Size\n",
      "    146/499       7.9G    0.02561    0.01314   0.001184         30        640: 1\n",
      "                 Class     Images  Instances          P          R      mAP50   \n",
      "                   all         51        113      0.646      0.231      0.243      0.109\n",
      "\n",
      "      Epoch    GPU_mem   box_loss   obj_loss   cls_loss  Instances       Size\n",
      "    147/499       7.9G    0.02578    0.01314   0.001069         51        640: 1\n",
      "                 Class     Images  Instances          P          R      mAP50   \n",
      "                   all         51        113      0.478      0.296      0.314      0.126\n",
      "\n",
      "      Epoch    GPU_mem   box_loss   obj_loss   cls_loss  Instances       Size\n",
      "    148/499       7.9G    0.02541     0.0123   0.001143         27        640: 1\n",
      "                 Class     Images  Instances          P          R      mAP50   \n",
      "                   all         51        113      0.733      0.223      0.266      0.103\n",
      "\n",
      "      Epoch    GPU_mem   box_loss   obj_loss   cls_loss  Instances       Size\n",
      "    149/499       7.9G    0.02483    0.01309    0.00122         36        640: 1\n",
      "                 Class     Images  Instances          P          R      mAP50   \n",
      "                   all         51        113      0.539      0.274      0.277      0.118\n",
      "\n",
      "      Epoch    GPU_mem   box_loss   obj_loss   cls_loss  Instances       Size\n",
      "    150/499       7.9G    0.02485    0.01186   0.001119         49        640: 1\n",
      "                 Class     Images  Instances          P          R      mAP50   \n",
      "                   all         51        113      0.346      0.257      0.259      0.114\n",
      "\n",
      "      Epoch    GPU_mem   box_loss   obj_loss   cls_loss  Instances       Size\n",
      "    151/499       7.9G    0.02533    0.01246   0.001061         20        640: 1\n",
      "                 Class     Images  Instances          P          R      mAP50   \n",
      "                   all         51        113      0.415      0.236      0.241      0.107\n",
      "\n",
      "      Epoch    GPU_mem   box_loss   obj_loss   cls_loss  Instances       Size\n",
      "    152/499       7.9G    0.02528    0.01189   0.001244         36        640: 1\n",
      "                 Class     Images  Instances          P          R      mAP50   \n",
      "                   all         51        113      0.427      0.235      0.236      0.118\n",
      "\n",
      "      Epoch    GPU_mem   box_loss   obj_loss   cls_loss  Instances       Size\n",
      "    153/499       7.9G    0.02498    0.01303   0.001108         37        640: 1\n",
      "                 Class     Images  Instances          P          R      mAP50   \n",
      "                   all         51        113      0.653      0.278      0.288      0.127\n",
      "\n",
      "      Epoch    GPU_mem   box_loss   obj_loss   cls_loss  Instances       Size\n",
      "    154/499       7.9G    0.02487    0.01221   0.001106         39        640: 1\n",
      "                 Class     Images  Instances          P          R      mAP50   \n",
      "                   all         51        113      0.512      0.248      0.264      0.119\n",
      "\n",
      "      Epoch    GPU_mem   box_loss   obj_loss   cls_loss  Instances       Size\n",
      "    155/499       7.9G    0.02468    0.01218   0.001183         26        640: 1\n",
      "                 Class     Images  Instances          P          R      mAP50   \n",
      "                   all         51        113      0.493       0.26      0.257      0.108\n",
      "\n",
      "      Epoch    GPU_mem   box_loss   obj_loss   cls_loss  Instances       Size\n",
      "    156/499       7.9G    0.02491    0.01171   0.001081         28        640: 1\n",
      "                 Class     Images  Instances          P          R      mAP50   \n",
      "                   all         51        113      0.691      0.222      0.249      0.113\n",
      "\n",
      "      Epoch    GPU_mem   box_loss   obj_loss   cls_loss  Instances       Size\n",
      "    157/499       7.9G    0.02613     0.0125   0.001124         43        640: 1\n",
      "                 Class     Images  Instances          P          R      mAP50   \n",
      "                   all         51        113      0.603      0.197      0.219     0.0919\n",
      "\n",
      "      Epoch    GPU_mem   box_loss   obj_loss   cls_loss  Instances       Size\n",
      "    158/499       7.9G     0.0245    0.01162   0.001051         38        640: 1\n",
      "                 Class     Images  Instances          P          R      mAP50   \n",
      "                   all         51        113      0.579      0.282      0.323       0.11\n",
      "\n",
      "      Epoch    GPU_mem   box_loss   obj_loss   cls_loss  Instances       Size\n",
      "    159/499       7.9G    0.02423    0.01234   0.001028         36        640: 1\n",
      "                 Class     Images  Instances          P          R      mAP50   \n",
      "                   all         51        113      0.544       0.28      0.264      0.111\n",
      "\n",
      "      Epoch    GPU_mem   box_loss   obj_loss   cls_loss  Instances       Size\n",
      "    160/499       7.9G    0.02489     0.0119   0.001096         45        640: 1\n",
      "                 Class     Images  Instances          P          R      mAP50   \n",
      "                   all         51        113       0.55      0.225      0.249      0.104\n",
      "\n",
      "      Epoch    GPU_mem   box_loss   obj_loss   cls_loss  Instances       Size\n",
      "    161/499       7.9G     0.0244    0.01204   0.001045         30        640: 1\n",
      "                 Class     Images  Instances          P          R      mAP50   \n",
      "                   all         51        113      0.566       0.26      0.271      0.112\n",
      "\n",
      "      Epoch    GPU_mem   box_loss   obj_loss   cls_loss  Instances       Size\n"
     ]
    },
    {
     "name": "stdout",
     "output_type": "stream",
     "text": [
      "    162/499       7.9G    0.02377    0.01238   0.001205         40        640: 1\n",
      "                 Class     Images  Instances          P          R      mAP50   \n",
      "                   all         51        113      0.334      0.225      0.225     0.0944\n",
      "\n",
      "      Epoch    GPU_mem   box_loss   obj_loss   cls_loss  Instances       Size\n",
      "    163/499       7.9G    0.02278    0.01151   0.001236         22        640: 1\n",
      "                 Class     Images  Instances          P          R      mAP50   \n",
      "                   all         51        113      0.297      0.228      0.219      0.106\n",
      "\n",
      "      Epoch    GPU_mem   box_loss   obj_loss   cls_loss  Instances       Size\n",
      "    164/499       7.9G    0.02355    0.01186   0.001038         37        640: 1\n",
      "                 Class     Images  Instances          P          R      mAP50   \n",
      "                   all         51        113      0.572      0.233      0.244      0.113\n",
      "Stopping training early as no improvement observed in last 100 epochs. Best results observed at epoch 64, best model saved as best.pt.\n",
      "To update EarlyStopping(patience=100) pass a new patience value, i.e. `python train.py --patience 300` or use `--patience 0` to disable EarlyStopping.\n",
      "\n",
      "165 epochs completed in 0.640 hours.\n",
      "Optimizer stripped from runs/train/exp27/weights/last.pt, 42.3MB\n",
      "Optimizer stripped from runs/train/exp27/weights/best.pt, 42.3MB\n",
      "\n",
      "Validating runs/train/exp27/weights/best.pt...\n",
      "Fusing layers... \n",
      "Model summary: 212 layers, 20877180 parameters, 0 gradients, 47.9 GFLOPs\n",
      "                 Class     Images  Instances          P          R      mAP50   \n",
      "                   all         51        113      0.616      0.287      0.303      0.132\n",
      "        Oral_Precancer         51          9      0.363      0.333      0.342      0.191\n",
      "           Oral_Cancer         51          8      0.821      0.625      0.611      0.327\n",
      "         Dental_Stains         51          9      0.612      0.222      0.252     0.0681\n",
      "            Gingivitis         51         58       0.37      0.259      0.187     0.0559\n",
      "         Dental_Caries         51         25      0.532       0.28      0.356      0.142\n",
      "      Dental_Fluorosis         51          4          1          0     0.0713    0.00713\n",
      "Results saved to \u001b[1mruns/train/exp27\u001b[0m\n"
     ]
    }
   ],
   "source": [
    "\n",
    "! python train.py --img 640 --batch 16 --epochs 500 --data dataset.yaml --weights yolov5m.pt"
   ]
  },
  {
   "cell_type": "code",
   "execution_count": 4,
   "metadata": {
    "id": "IIOsI4doS1C9"
   },
   "outputs": [
    {
     "name": "stderr",
     "output_type": "stream",
     "text": [
      "Traceback (most recent call last):\n",
      "  File \"d:\\DOTE\\yolov5\\export.py\", line 71, in <module>\n",
      "    from models.yolo import ClassificationModel, Detect, DetectionModel, SegmentationModel\n",
      "  File \"d:\\DOTE\\yolov5\\models\\yolo.py\", line 24, in <module>\n",
      "    from models.common import *\n",
      "  File \"d:\\DOTE\\yolov5\\models\\common.py\", line 29, in <module>\n",
      "    from utils.dataloaders import exif_transpose, letterbox\n",
      "  File \"d:\\DOTE\\yolov5\\utils\\dataloaders.py\", line 22, in <module>\n",
      "    import psutil\n",
      "ModuleNotFoundError: No module named 'psutil'\n"
     ]
    }
   ],
   "source": [
    "!python export.py --weights D:/DOTE/yolov5/runs/train/exp30/weights/best.pt --include hdf5 --dynamic"
   ]
  },
  {
   "cell_type": "code",
   "execution_count": 3,
   "metadata": {
    "id": "WKJDxYESS1Ft"
   },
   "outputs": [
    {
     "name": "stdout",
     "output_type": "stream",
     "text": [
      "Collecting pandas\n",
      "  Downloading pandas-2.0.0-cp39-cp39-win_amd64.whl (11.3 MB)\n",
      "Requirement already satisfied: tzdata>=2022.1 in c:\\users\\dell\\appdata\\roaming\\python\\python39\\site-packages (from pandas) (2022.7)\n",
      "Requirement already satisfied: python-dateutil>=2.8.2 in c:\\users\\dell\\.conda\\envs\\anpr2\\lib\\site-packages (from pandas) (2.8.2)\n",
      "Collecting pytz>=2020.1\n",
      "  Downloading pytz-2023.3-py2.py3-none-any.whl (502 kB)\n",
      "Requirement already satisfied: numpy>=1.20.3 in c:\\users\\dell\\.conda\\envs\\anpr2\\lib\\site-packages (from pandas) (1.23.0)\n",
      "Requirement already satisfied: six>=1.5 in c:\\users\\dell\\.conda\\envs\\anpr2\\lib\\site-packages (from python-dateutil>=2.8.2->pandas) (1.16.0)\n",
      "Installing collected packages: pytz, pandas\n",
      "Successfully installed pandas-2.0.0 pytz-2023.3\n"
     ]
    },
    {
     "name": "stderr",
     "output_type": "stream",
     "text": [
      "ERROR: pip's dependency resolver does not currently take into account all the packages that are installed. This behaviour is the source of the following dependency conflicts.\n",
      "twilio 7.14.2 requires PyJWT<3.0.0,>=2.0.0, which is not installed.\n"
     ]
    }
   ],
   "source": [
    "!pip install pandas"
   ]
  },
  {
   "cell_type": "code",
   "execution_count": null,
   "metadata": {
    "id": "hi5p0WONS1IK"
   },
   "outputs": [],
   "source": []
  }
 ],
 "metadata": {
  "accelerator": "GPU",
  "colab": {
   "provenance": []
  },
  "gpuClass": "standard",
  "kernelspec": {
   "display_name": "Python 3 (ipykernel)",
   "language": "python",
   "name": "python3"
  },
  "language_info": {
   "codemirror_mode": {
    "name": "ipython",
    "version": 3
   },
   "file_extension": ".py",
   "mimetype": "text/x-python",
   "name": "python",
   "nbconvert_exporter": "python",
   "pygments_lexer": "ipython3",
   "version": "3.7.12"
  }
 },
 "nbformat": 4,
 "nbformat_minor": 1
}
